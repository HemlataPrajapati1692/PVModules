{
 "cells": [
  {
   "cell_type": "code",
   "execution_count": 1,
   "metadata": {},
   "outputs": [],
   "source": [
    "import time\n",
    "import psycopg2\n",
    "import datetime\n",
    "from config import config\n",
    "import pandas as pd\n",
    "import numpy as np\n",
    "import matplotlib.pyplot as plt\n",
    "from math import sqrt"
   ]
  },
  {
   "cell_type": "markdown",
   "metadata": {},
   "source": [
    "## Establishing connection to Database"
   ]
  },
  {
   "cell_type": "code",
   "execution_count": 2,
   "metadata": {},
   "outputs": [
    {
     "name": "stdout",
     "output_type": "stream",
     "text": [
      "Connecting to the PostgreSQL database...\n",
      "PostgreSQL database version:\n",
      "('PostgreSQL 13.0 (Debian 13.0-1.pgdg100+1) on x86_64-pc-linux-gnu, compiled by gcc (Debian 8.3.0-6) 8.3.0, 64-bit',)\n",
      "Database connection closed.\n"
     ]
    }
   ],
   "source": [
    "conn = None\n",
    "\n",
    "try:\n",
    "    # read connection parameters\n",
    "    params = config()\n",
    "\n",
    "    # connect to the PostgreSQL server\n",
    "    print('Connecting to the PostgreSQL database...')\n",
    "    conn = psycopg2.connect(**params)\n",
    "\n",
    "    # create a cursor\n",
    "    cur = conn.cursor()\n",
    "        \n",
    "    # execute a statement, display the PostgreSQL database server version\n",
    "    print('PostgreSQL database version:')\n",
    "    cur.execute('SELECT version()')\n",
    "    db_version = cur.fetchone()\n",
    "    print(db_version)\n",
    "       \n",
    "    # execute a statement, fech pv yield\n",
    "    \n",
    "    cur.execute(\n",
    "         \"\"\"\n",
    "         SELECT date, yield FROM daily_yield \n",
    "         WHERE solarlog_id=3588 AND solarlog_subdomain=%s\n",
    "         \"\"\",\n",
    "        ('home1',)\n",
    "        )\n",
    "    result = cur.fetchall()\n",
    "\n",
    "    # to fetch Plant id on the basis of selectedis 12241\n",
    "    cur.execute(\n",
    "         \"\"\"\n",
    "         SELECT id FROM plants \n",
    "         WHERE solarlog_id=3588 AND solarlog_subdomain=%s\n",
    "         \"\"\",\n",
    "        ('home1',)\n",
    "        )\n",
    "\n",
    "    plant_id = cur.fetchall()\n",
    "    \n",
    "    \n",
    "    # close the communication with the PostgreSQL\n",
    "    cur.close()\n",
    "    \n",
    "except (Exception, psycopg2.DatabaseError) as error:\n",
    "    print(error)\n",
    "    \n",
    "finally:\n",
    "    if conn is not None:\n",
    "        conn.close()\n",
    "        print('Database connection closed.')"
   ]
  },
  {
   "cell_type": "code",
   "execution_count": 3,
   "metadata": {},
   "outputs": [
    {
     "name": "stdout",
     "output_type": "stream",
     "text": [
      "(datetime.date(2020, 7, 19), Decimal('174.00')) 12241\n"
     ]
    }
   ],
   "source": [
    "print(result[0],plant_id[0][0])"
   ]
  },
  {
   "cell_type": "markdown",
   "metadata": {},
   "source": [
    "## Data Preparation\n",
    "Converting SQL values to Dataframe, then convert the time column to datetime column and convert yield to numeric values"
   ]
  },
  {
   "cell_type": "code",
   "execution_count": 4,
   "metadata": {},
   "outputs": [
    {
     "name": "stdout",
     "output_type": "stream",
     "text": [
      "             date   yield\n",
      "0      2020-07-19  174.00\n",
      "1      2020-07-16   40.00\n",
      "2      2020-07-16    7.00\n",
      "3      2020-07-19  173.00\n",
      "4      2020-07-19  163.00\n",
      "...           ...     ...\n",
      "51889  2019-12-27   25.00\n",
      "51890  2019-12-27    0.00\n",
      "51891  2019-12-27    0.00\n",
      "51892  2019-12-27    0.00\n",
      "51893  2019-12-27    0.00\n",
      "\n",
      "[51894 rows x 2 columns]\n"
     ]
    }
   ],
   "source": [
    "import pandas\n",
    "df= pandas.DataFrame(result, columns=['date','yield'])\n",
    "print(df)"
   ]
  },
  {
   "cell_type": "code",
   "execution_count": 5,
   "metadata": {},
   "outputs": [],
   "source": [
    "df= df.set_index('date')"
   ]
  },
  {
   "cell_type": "code",
   "execution_count": 6,
   "metadata": {},
   "outputs": [],
   "source": [
    "df.index.freq='D'\n"
   ]
  },
  {
   "cell_type": "code",
   "execution_count": 7,
   "metadata": {},
   "outputs": [
    {
     "name": "stdout",
     "output_type": "stream",
     "text": [
      "D\n"
     ]
    }
   ],
   "source": [
    "print(df.index.freq)"
   ]
  },
  {
   "cell_type": "code",
   "execution_count": 8,
   "metadata": {},
   "outputs": [],
   "source": [
    "#Values of yield is decimal, it's important to convert them to Numeric values to plot graphs etc\n",
    "import pandas as pd\n",
    "df[\"yield\"] = pd.to_numeric(df[\"yield\"])"
   ]
  },
  {
   "cell_type": "code",
   "execution_count": 9,
   "metadata": {},
   "outputs": [
    {
     "data": {
      "text/html": [
       "<div>\n",
       "<style scoped>\n",
       "    .dataframe tbody tr th:only-of-type {\n",
       "        vertical-align: middle;\n",
       "    }\n",
       "\n",
       "    .dataframe tbody tr th {\n",
       "        vertical-align: top;\n",
       "    }\n",
       "\n",
       "    .dataframe thead th {\n",
       "        text-align: right;\n",
       "    }\n",
       "</style>\n",
       "<table border=\"1\" class=\"dataframe\">\n",
       "  <thead>\n",
       "    <tr style=\"text-align: right;\">\n",
       "      <th></th>\n",
       "      <th>yield</th>\n",
       "    </tr>\n",
       "    <tr>\n",
       "      <th>date</th>\n",
       "      <th></th>\n",
       "    </tr>\n",
       "  </thead>\n",
       "  <tbody>\n",
       "    <tr>\n",
       "      <th>2020-07-19</th>\n",
       "      <td>174.0</td>\n",
       "    </tr>\n",
       "    <tr>\n",
       "      <th>2020-07-16</th>\n",
       "      <td>40.0</td>\n",
       "    </tr>\n",
       "    <tr>\n",
       "      <th>2020-07-16</th>\n",
       "      <td>7.0</td>\n",
       "    </tr>\n",
       "    <tr>\n",
       "      <th>2020-07-19</th>\n",
       "      <td>173.0</td>\n",
       "    </tr>\n",
       "    <tr>\n",
       "      <th>2020-07-19</th>\n",
       "      <td>163.0</td>\n",
       "    </tr>\n",
       "  </tbody>\n",
       "</table>\n",
       "</div>"
      ],
      "text/plain": [
       "            yield\n",
       "date             \n",
       "2020-07-19  174.0\n",
       "2020-07-16   40.0\n",
       "2020-07-16    7.0\n",
       "2020-07-19  173.0\n",
       "2020-07-19  163.0"
      ]
     },
     "execution_count": 9,
     "metadata": {},
     "output_type": "execute_result"
    }
   ],
   "source": [
    "df.head()"
   ]
  },
  {
   "cell_type": "markdown",
   "metadata": {},
   "source": [
    "## Dataframe plotting and correlation plotting"
   ]
  },
  {
   "cell_type": "code",
   "execution_count": 10,
   "metadata": {},
   "outputs": [
    {
     "data": {
      "text/plain": [
       "<AxesSubplot:xlabel='date'>"
      ]
     },
     "execution_count": 10,
     "metadata": {},
     "output_type": "execute_result"
    },
    {
     "data": {
      "image/png": "[encoded data removed]",
      "text/plain": [
       "<Figure size 432x288 with 1 Axes>"
      ]
     },
     "metadata": {
      "needs_background": "light"
     },
     "output_type": "display_data"
    }
   ],
   "source": [
    "df.plot()"
   ]
  },
  {
   "cell_type": "code",
   "execution_count": 18,
   "metadata": {},
   "outputs": [
    {
     "data": {
      "image/png": "[encoded data removed]",
      "text/plain": [
       "<Figure size 432x288 with 4 Axes>"
      ]
     },
     "metadata": {
      "needs_background": "light"
     },
     "output_type": "display_data"
    }
   ],
   "source": [
    "from statsmodels.tsa.seasonal import seasonal_decompose\n",
    "result_add = seasonal_decompose(df['yield'], model='additive', extrapolate_trend='freq', period=1)\n",
    "\n",
    "result_add.plot();"
   ]
  },
  {
   "cell_type": "code",
   "execution_count": 12,
   "metadata": {},
   "outputs": [
    {
     "data": {
      "image/png": "[encoded data removed]",
      "text/plain": [
       "<Figure size 432x288 with 1 Axes>"
      ]
     },
     "execution_count": 12,
     "metadata": {},
     "output_type": "execute_result"
    },
    {
     "data": {
      "image/png": "[encoded data removed]",
      "text/plain": [
       "<Figure size 432x288 with 1 Axes>"
      ]
     },
     "metadata": {
      "needs_background": "light"
     },
     "output_type": "display_data"
    },
    {
     "data": {
      "image/png": "[encoded data removed]",
      "text/plain": [
       "<Figure size 432x288 with 1 Axes>"
      ]
     },
     "metadata": {
      "needs_background": "light"
     },
     "output_type": "display_data"
    }
   ],
   "source": [
    "#plot auto correlation and partial correlation\n",
    "from statsmodels.graphics.tsaplots import plot_acf,plot_pacf\n",
    "plot_acf(df)\n",
    "plot_pacf(df)"
   ]
  },
  {
   "cell_type": "markdown",
   "metadata": {},
   "source": [
    "## MODEL BUILDING- SARIMAX\n",
    "Refrence for pdarima- https://alkaline-ml.com/pmdarima/modules/generated/pmdarima.arima.auto_arima.html"
   ]
  },
  {
   "cell_type": "code",
   "execution_count": 13,
   "metadata": {},
   "outputs": [],
   "source": [
    "import warnings\n",
    "warnings.filterwarnings(\"ignore\")"
   ]
  },
  {
   "cell_type": "code",
   "execution_count": 14,
   "metadata": {},
   "outputs": [],
   "source": [
    "from statsmodels.tsa.arima_model import ARMA,ARIMA, ARMAResults, ARIMAResults"
   ]
  },
  {
   "cell_type": "code",
   "execution_count": 19,
   "metadata": {},
   "outputs": [
    {
     "data": {
      "text/html": [
       "<table class=\"simpletable\">\n",
       "<caption>SARIMAX Results</caption>\n",
       "<tr>\n",
       "  <th>Dep. Variable:</th>           <td>y</td>        <th>  No. Observations:  </th>    <td>51894</td>   \n",
       "</tr>\n",
       "<tr>\n",
       "  <th>Model:</th>           <td>SARIMAX(5, 1, 5)</td> <th>  Log Likelihood     </th> <td>-417195.136</td>\n",
       "</tr>\n",
       "<tr>\n",
       "  <th>Date:</th>            <td>Wed, 16 Dec 2020</td> <th>  AIC                </th> <td>834414.272</td> \n",
       "</tr>\n",
       "<tr>\n",
       "  <th>Time:</th>                <td>16:36:57</td>     <th>  BIC                </th> <td>834520.556</td> \n",
       "</tr>\n",
       "<tr>\n",
       "  <th>Sample:</th>                  <td>0</td>        <th>  HQIC               </th> <td>834447.508</td> \n",
       "</tr>\n",
       "<tr>\n",
       "  <th></th>                     <td> - 51894</td>     <th>                     </th>      <td> </td>     \n",
       "</tr>\n",
       "<tr>\n",
       "  <th>Covariance Type:</th>        <td>opg</td>       <th>                     </th>      <td> </td>     \n",
       "</tr>\n",
       "</table>\n",
       "<table class=\"simpletable\">\n",
       "<tr>\n",
       "      <td></td>         <th>coef</th>     <th>std err</th>      <th>z</th>      <th>P>|z|</th>  <th>[0.025</th>    <th>0.975]</th>  \n",
       "</tr>\n",
       "<tr>\n",
       "  <th>intercept</th> <td>   -0.0007</td> <td>    0.306</td> <td>   -0.002</td> <td> 0.998</td> <td>   -0.601</td> <td>    0.599</td>\n",
       "</tr>\n",
       "<tr>\n",
       "  <th>ar.L1</th>     <td>   -0.8087</td> <td>    0.020</td> <td>  -39.494</td> <td> 0.000</td> <td>   -0.849</td> <td>   -0.769</td>\n",
       "</tr>\n",
       "<tr>\n",
       "  <th>ar.L2</th>     <td>    0.0568</td> <td>    0.020</td> <td>    2.840</td> <td> 0.005</td> <td>    0.018</td> <td>    0.096</td>\n",
       "</tr>\n",
       "<tr>\n",
       "  <th>ar.L3</th>     <td>    0.8486</td> <td>    0.013</td> <td>   67.603</td> <td> 0.000</td> <td>    0.824</td> <td>    0.873</td>\n",
       "</tr>\n",
       "<tr>\n",
       "  <th>ar.L4</th>     <td>    0.7580</td> <td>    0.014</td> <td>   55.996</td> <td> 0.000</td> <td>    0.731</td> <td>    0.785</td>\n",
       "</tr>\n",
       "<tr>\n",
       "  <th>ar.L5</th>     <td>   -0.0521</td> <td>    0.010</td> <td>   -5.013</td> <td> 0.000</td> <td>   -0.072</td> <td>   -0.032</td>\n",
       "</tr>\n",
       "<tr>\n",
       "  <th>ma.L1</th>     <td>    0.3605</td> <td>    0.021</td> <td>   17.378</td> <td> 0.000</td> <td>    0.320</td> <td>    0.401</td>\n",
       "</tr>\n",
       "<tr>\n",
       "  <th>ma.L2</th>     <td>   -0.3294</td> <td>    0.013</td> <td>  -24.416</td> <td> 0.000</td> <td>   -0.356</td> <td>   -0.303</td>\n",
       "</tr>\n",
       "<tr>\n",
       "  <th>ma.L3</th>     <td>   -0.8435</td> <td>    0.011</td> <td>  -80.151</td> <td> 0.000</td> <td>   -0.864</td> <td>   -0.823</td>\n",
       "</tr>\n",
       "<tr>\n",
       "  <th>ma.L4</th>     <td>   -0.3841</td> <td>    0.013</td> <td>  -30.385</td> <td> 0.000</td> <td>   -0.409</td> <td>   -0.359</td>\n",
       "</tr>\n",
       "<tr>\n",
       "  <th>ma.L5</th>     <td>    0.2678</td> <td>    0.009</td> <td>   30.921</td> <td> 0.000</td> <td>    0.251</td> <td>    0.285</td>\n",
       "</tr>\n",
       "<tr>\n",
       "  <th>sigma2</th>    <td>  5.65e+05</td> <td> 1701.945</td> <td>  332.000</td> <td> 0.000</td> <td> 5.62e+05</td> <td> 5.68e+05</td>\n",
       "</tr>\n",
       "</table>\n",
       "<table class=\"simpletable\">\n",
       "<tr>\n",
       "  <th>Ljung-Box (L1) (Q):</th>     <td>1.50</td> <th>  Jarque-Bera (JB):  </th> <td>386191.48</td>\n",
       "</tr>\n",
       "<tr>\n",
       "  <th>Prob(Q):</th>                <td>0.22</td> <th>  Prob(JB):          </th>   <td>0.00</td>   \n",
       "</tr>\n",
       "<tr>\n",
       "  <th>Heteroskedasticity (H):</th> <td>1.03</td> <th>  Skew:              </th>   <td>0.39</td>   \n",
       "</tr>\n",
       "<tr>\n",
       "  <th>Prob(H) (two-sided):</th>    <td>0.04</td> <th>  Kurtosis:          </th>   <td>16.34</td>  \n",
       "</tr>\n",
       "</table><br/><br/>Warnings:<br/>[1] Covariance matrix calculated using the outer product of gradients (complex-step)."
      ],
      "text/plain": [
       "<class 'statsmodels.iolib.summary.Summary'>\n",
       "\"\"\"\n",
       "                               SARIMAX Results                                \n",
       "==============================================================================\n",
       "Dep. Variable:                      y   No. Observations:                51894\n",
       "Model:               SARIMAX(5, 1, 5)   Log Likelihood             -417195.136\n",
       "Date:                Wed, 16 Dec 2020   AIC                         834414.272\n",
       "Time:                        16:36:57   BIC                         834520.556\n",
       "Sample:                             0   HQIC                        834447.508\n",
       "                              - 51894                                         \n",
       "Covariance Type:                  opg                                         \n",
       "==============================================================================\n",
       "                 coef    std err          z      P>|z|      [0.025      0.975]\n",
       "------------------------------------------------------------------------------\n",
       "intercept     -0.0007      0.306     -0.002      0.998      -0.601       0.599\n",
       "ar.L1         -0.8087      0.020    -39.494      0.000      -0.849      -0.769\n",
       "ar.L2          0.0568      0.020      2.840      0.005       0.018       0.096\n",
       "ar.L3          0.8486      0.013     67.603      0.000       0.824       0.873\n",
       "ar.L4          0.7580      0.014     55.996      0.000       0.731       0.785\n",
       "ar.L5         -0.0521      0.010     -5.013      0.000      -0.072      -0.032\n",
       "ma.L1          0.3605      0.021     17.378      0.000       0.320       0.401\n",
       "ma.L2         -0.3294      0.013    -24.416      0.000      -0.356      -0.303\n",
       "ma.L3         -0.8435      0.011    -80.151      0.000      -0.864      -0.823\n",
       "ma.L4         -0.3841      0.013    -30.385      0.000      -0.409      -0.359\n",
       "ma.L5          0.2678      0.009     30.921      0.000       0.251       0.285\n",
       "sigma2       5.65e+05   1701.945    332.000      0.000    5.62e+05    5.68e+05\n",
       "===================================================================================\n",
       "Ljung-Box (L1) (Q):                   1.50   Jarque-Bera (JB):            386191.48\n",
       "Prob(Q):                              0.22   Prob(JB):                         0.00\n",
       "Heteroskedasticity (H):               1.03   Skew:                             0.39\n",
       "Prob(H) (two-sided):                  0.04   Kurtosis:                        16.34\n",
       "===================================================================================\n",
       "\n",
       "Warnings:\n",
       "[1] Covariance matrix calculated using the outer product of gradients (complex-step).\n",
       "\"\"\""
      ]
     },
     "execution_count": 19,
     "metadata": {},
     "output_type": "execute_result"
    }
   ],
   "source": [
    "#using pmdarima to determine the best parameters (plag, order, qlag) \n",
    "from pmdarima import auto_arima \n",
    "auto_arima(df['yield'],seasonal=False).summary()"
   ]
  },
  {
   "cell_type": "code",
   "execution_count": 20,
   "metadata": {},
   "outputs": [
    {
     "name": "stdout",
     "output_type": "stream",
     "text": [
      "Test RMSE: 750.723\n"
     ]
    }
   ],
   "source": [
    "#taking the best parameters generated on subset of dataset consist of 1 Lacs rows as pmdarima do not work well on large datasets\n",
    "from sklearn.metrics import mean_squared_error\n",
    "from math import sqrt\n",
    "from statsmodels.tsa.statespace.sarimax import SARIMAX\n",
    "model = SARIMAX(df['yield'].values,order=(5,1,5), initialization='approximate_diffuse')\n",
    "model_fit= model.fit()\n",
    "rmse = sqrt(mean_squared_error(df['yield'].values,model_fit.fittedvalues)) \n",
    "print('Test RMSE: %.3f' % rmse)"
   ]
  },
  {
   "cell_type": "code",
   "execution_count": null,
   "metadata": {},
   "outputs": [],
   "source": []
  }
 ],
 "metadata": {
  "kernelspec": {
   "display_name": "Python 3",
   "language": "python",
   "name": "python3"
  },
  "language_info": {
   "codemirror_mode": {
    "name": "ipython",
    "version": 3
   },
   "file_extension": ".py",
   "mimetype": "text/x-python",
   "name": "python",
   "nbconvert_exporter": "python",
   "pygments_lexer": "ipython3",
   "version": "3.7.9"
  }
 },
 "nbformat": 4,
 "nbformat_minor": 4
}
