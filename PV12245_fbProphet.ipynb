{
  "nbformat": 4,
  "nbformat_minor": 0,
  "metadata": {
    "colab": {
      "name": "PV12245_fbProphet.ipynb",
      "provenance": [],
      "collapsed_sections": []
    },
    "kernelspec": {
      "name": "python3",
      "display_name": "Python 3"
    },
    "widgets": {
      "application/vnd.jupyter.widget-state+json": {
        "00e82b07773e41ce94c8d8389a205fc1": {
          "model_module": "@jupyter-widgets/controls",
          "model_name": "HBoxModel",
          "state": {
            "_view_name": "HBoxView",
            "_dom_classes": [],
            "_model_name": "HBoxModel",
            "_view_module": "@jupyter-widgets/controls",
            "_model_module_version": "1.5.0",
            "_view_count": null,
            "_view_module_version": "1.5.0",
            "box_style": "",
            "layout": "IPY_MODEL_d6d31a1e99104c0c990abbdf984ebb53",
            "_model_module": "@jupyter-widgets/controls",
            "children": [
              "IPY_MODEL_03e633794bd64e37942fbbf2dad7b930",
              "IPY_MODEL_fd343b5307634e81958f7f93d33ebb2f"
            ]
          }
        },
        "d6d31a1e99104c0c990abbdf984ebb53": {
          "model_module": "@jupyter-widgets/base",
          "model_name": "LayoutModel",
          "state": {
            "_view_name": "LayoutView",
            "grid_template_rows": null,
            "right": null,
            "justify_content": null,
            "_view_module": "@jupyter-widgets/base",
            "overflow": null,
            "_model_module_version": "1.2.0",
            "_view_count": null,
            "flex_flow": null,
            "width": null,
            "min_width": null,
            "border": null,
            "align_items": null,
            "bottom": null,
            "_model_module": "@jupyter-widgets/base",
            "top": null,
            "grid_column": null,
            "overflow_y": null,
            "overflow_x": null,
            "grid_auto_flow": null,
            "grid_area": null,
            "grid_template_columns": null,
            "flex": null,
            "_model_name": "LayoutModel",
            "justify_items": null,
            "grid_row": null,
            "max_height": null,
            "align_content": null,
            "visibility": null,
            "align_self": null,
            "height": null,
            "min_height": null,
            "padding": null,
            "grid_auto_rows": null,
            "grid_gap": null,
            "max_width": null,
            "order": null,
            "_view_module_version": "1.2.0",
            "grid_template_areas": null,
            "object_position": null,
            "object_fit": null,
            "grid_auto_columns": null,
            "margin": null,
            "display": null,
            "left": null
          }
        },
        "03e633794bd64e37942fbbf2dad7b930": {
          "model_module": "@jupyter-widgets/controls",
          "model_name": "FloatProgressModel",
          "state": {
            "_view_name": "ProgressView",
            "style": "IPY_MODEL_cb424caa98ff4a508402416aa4be62bf",
            "_dom_classes": [],
            "description": "100%",
            "_model_name": "FloatProgressModel",
            "bar_style": "success",
            "max": 8,
            "_view_module": "@jupyter-widgets/controls",
            "_model_module_version": "1.5.0",
            "value": 8,
            "_view_count": null,
            "_view_module_version": "1.5.0",
            "orientation": "horizontal",
            "min": 0,
            "description_tooltip": null,
            "_model_module": "@jupyter-widgets/controls",
            "layout": "IPY_MODEL_0fca8fd6b6984b8989991ce9620fdb91"
          }
        },
        "fd343b5307634e81958f7f93d33ebb2f": {
          "model_module": "@jupyter-widgets/controls",
          "model_name": "HTMLModel",
          "state": {
            "_view_name": "HTMLView",
            "style": "IPY_MODEL_e544507a16bc49d594c88c75effd9c74",
            "_dom_classes": [],
            "description": "",
            "_model_name": "HTMLModel",
            "placeholder": "​",
            "_view_module": "@jupyter-widgets/controls",
            "_model_module_version": "1.5.0",
            "value": " 8/8 [05:51&lt;00:00, 43.94s/it]",
            "_view_count": null,
            "_view_module_version": "1.5.0",
            "description_tooltip": null,
            "_model_module": "@jupyter-widgets/controls",
            "layout": "IPY_MODEL_e6c1b5c49376434ca4290ba89ed21ad5"
          }
        },
        "cb424caa98ff4a508402416aa4be62bf": {
          "model_module": "@jupyter-widgets/controls",
          "model_name": "ProgressStyleModel",
          "state": {
            "_view_name": "StyleView",
            "_model_name": "ProgressStyleModel",
            "description_width": "initial",
            "_view_module": "@jupyter-widgets/base",
            "_model_module_version": "1.5.0",
            "_view_count": null,
            "_view_module_version": "1.2.0",
            "bar_color": null,
            "_model_module": "@jupyter-widgets/controls"
          }
        },
        "0fca8fd6b6984b8989991ce9620fdb91": {
          "model_module": "@jupyter-widgets/base",
          "model_name": "LayoutModel",
          "state": {
            "_view_name": "LayoutView",
            "grid_template_rows": null,
            "right": null,
            "justify_content": null,
            "_view_module": "@jupyter-widgets/base",
            "overflow": null,
            "_model_module_version": "1.2.0",
            "_view_count": null,
            "flex_flow": null,
            "width": null,
            "min_width": null,
            "border": null,
            "align_items": null,
            "bottom": null,
            "_model_module": "@jupyter-widgets/base",
            "top": null,
            "grid_column": null,
            "overflow_y": null,
            "overflow_x": null,
            "grid_auto_flow": null,
            "grid_area": null,
            "grid_template_columns": null,
            "flex": null,
            "_model_name": "LayoutModel",
            "justify_items": null,
            "grid_row": null,
            "max_height": null,
            "align_content": null,
            "visibility": null,
            "align_self": null,
            "height": null,
            "min_height": null,
            "padding": null,
            "grid_auto_rows": null,
            "grid_gap": null,
            "max_width": null,
            "order": null,
            "_view_module_version": "1.2.0",
            "grid_template_areas": null,
            "object_position": null,
            "object_fit": null,
            "grid_auto_columns": null,
            "margin": null,
            "display": null,
            "left": null
          }
        },
        "e544507a16bc49d594c88c75effd9c74": {
          "model_module": "@jupyter-widgets/controls",
          "model_name": "DescriptionStyleModel",
          "state": {
            "_view_name": "StyleView",
            "_model_name": "DescriptionStyleModel",
            "description_width": "",
            "_view_module": "@jupyter-widgets/base",
            "_model_module_version": "1.5.0",
            "_view_count": null,
            "_view_module_version": "1.2.0",
            "_model_module": "@jupyter-widgets/controls"
          }
        },
        "e6c1b5c49376434ca4290ba89ed21ad5": {
          "model_module": "@jupyter-widgets/base",
          "model_name": "LayoutModel",
          "state": {
            "_view_name": "LayoutView",
            "grid_template_rows": null,
            "right": null,
            "justify_content": null,
            "_view_module": "@jupyter-widgets/base",
            "overflow": null,
            "_model_module_version": "1.2.0",
            "_view_count": null,
            "flex_flow": null,
            "width": null,
            "min_width": null,
            "border": null,
            "align_items": null,
            "bottom": null,
            "_model_module": "@jupyter-widgets/base",
            "top": null,
            "grid_column": null,
            "overflow_y": null,
            "overflow_x": null,
            "grid_auto_flow": null,
            "grid_area": null,
            "grid_template_columns": null,
            "flex": null,
            "_model_name": "LayoutModel",
            "justify_items": null,
            "grid_row": null,
            "max_height": null,
            "align_content": null,
            "visibility": null,
            "align_self": null,
            "height": null,
            "min_height": null,
            "padding": null,
            "grid_auto_rows": null,
            "grid_gap": null,
            "max_width": null,
            "order": null,
            "_view_module_version": "1.2.0",
            "grid_template_areas": null,
            "object_position": null,
            "object_fit": null,
            "grid_auto_columns": null,
            "margin": null,
            "display": null,
            "left": null
          }
        }
      }
    }
  },
  "cells": [
    {
      "cell_type": "code",
      "metadata": {
        "id": "5Jb8gCmDGXba"
      },
      "source": [
        "import pandas as pd\r\n",
        "import numpy as np\r\n",
        "from fbprophet import Prophet\r\n",
        "import matplotlib.pyplot as plt"
      ],
      "execution_count": 1,
      "outputs": []
    },
    {
      "cell_type": "code",
      "metadata": {
        "id": "5e-h-lMWGcs0"
      },
      "source": [
        "df =pd.read_csv('fbyield.csv', header=0, sep=';', squeeze=True, parse_dates=True)"
      ],
      "execution_count": 2,
      "outputs": []
    },
    {
      "cell_type": "code",
      "metadata": {
        "colab": {
          "base_uri": "https://localhost:8080/",
          "height": 493
        },
        "id": "rS9480OLIa77",
        "outputId": "13e37479-28a5-4f6c-e469-432db5a4d325"
      },
      "source": [
        "#create the model\r\n",
        "m = Prophet(seasonality_mode='multiplicative').fit(df)\r\n",
        "future = m.make_future_dataframe(periods=3652)\r\n",
        "fcst = m.predict(future)\r\n",
        "fig = m.plot(fcst)"
      ],
      "execution_count": 3,
      "outputs": [
        {
          "output_type": "stream",
          "text": [
            "INFO:numexpr.utils:NumExpr defaulting to 2 threads.\n",
            "INFO:fbprophet:Disabling yearly seasonality. Run prophet with yearly_seasonality=True to override this.\n",
            "INFO:fbprophet:Disabling daily seasonality. Run prophet with daily_seasonality=True to override this.\n"
          ],
          "name": "stderr"
        },
        {
          "output_type": "display_data",
          "data": {
            "image/png": "[encoded data removed]",
            "text/plain": [
              "<Figure size 720x432 with 1 Axes>"
            ]
          },
          "metadata": {
            "tags": []
          }
        }
      ]
    },
    {
      "cell_type": "code",
      "metadata": {
        "colab": {
          "base_uri": "https://localhost:8080/",
          "height": 202
        },
        "id": "fBC--hBOYyqm",
        "outputId": "3d2cd3f5-7a65-43ed-8605-814978cb098b"
      },
      "source": [
        "future.head()"
      ],
      "execution_count": 4,
      "outputs": [
        {
          "output_type": "execute_result",
          "data": {
            "text/html": [
              "<div>\n",
              "<style scoped>\n",
              "    .dataframe tbody tr th:only-of-type {\n",
              "        vertical-align: middle;\n",
              "    }\n",
              "\n",
              "    .dataframe tbody tr th {\n",
              "        vertical-align: top;\n",
              "    }\n",
              "\n",
              "    .dataframe thead th {\n",
              "        text-align: right;\n",
              "    }\n",
              "</style>\n",
              "<table border=\"1\" class=\"dataframe\">\n",
              "  <thead>\n",
              "    <tr style=\"text-align: right;\">\n",
              "      <th></th>\n",
              "      <th>ds</th>\n",
              "    </tr>\n",
              "  </thead>\n",
              "  <tbody>\n",
              "    <tr>\n",
              "      <th>0</th>\n",
              "      <td>2019-09-12</td>\n",
              "    </tr>\n",
              "    <tr>\n",
              "      <th>1</th>\n",
              "      <td>2019-10-12</td>\n",
              "    </tr>\n",
              "    <tr>\n",
              "      <th>2</th>\n",
              "      <td>2019-11-12</td>\n",
              "    </tr>\n",
              "    <tr>\n",
              "      <th>3</th>\n",
              "      <td>2019-12-12</td>\n",
              "    </tr>\n",
              "    <tr>\n",
              "      <th>4</th>\n",
              "      <td>2019-12-13</td>\n",
              "    </tr>\n",
              "  </tbody>\n",
              "</table>\n",
              "</div>"
            ],
            "text/plain": [
              "          ds\n",
              "0 2019-09-12\n",
              "1 2019-10-12\n",
              "2 2019-11-12\n",
              "3 2019-12-12\n",
              "4 2019-12-13"
            ]
          },
          "metadata": {
            "tags": []
          },
          "execution_count": 4
        }
      ]
    },
    {
      "cell_type": "code",
      "metadata": {
        "colab": {
          "base_uri": "https://localhost:8080/",
          "height": 202
        },
        "id": "hI6HbVKJZUbe",
        "outputId": "f5c44d4e-8321-4fab-c2eb-e22cd3a34cf9"
      },
      "source": [
        "future.tail()"
      ],
      "execution_count": 5,
      "outputs": [
        {
          "output_type": "execute_result",
          "data": {
            "text/html": [
              "<div>\n",
              "<style scoped>\n",
              "    .dataframe tbody tr th:only-of-type {\n",
              "        vertical-align: middle;\n",
              "    }\n",
              "\n",
              "    .dataframe tbody tr th {\n",
              "        vertical-align: top;\n",
              "    }\n",
              "\n",
              "    .dataframe thead th {\n",
              "        text-align: right;\n",
              "    }\n",
              "</style>\n",
              "<table border=\"1\" class=\"dataframe\">\n",
              "  <thead>\n",
              "    <tr style=\"text-align: right;\">\n",
              "      <th></th>\n",
              "      <th>ds</th>\n",
              "    </tr>\n",
              "  </thead>\n",
              "  <tbody>\n",
              "    <tr>\n",
              "      <th>4012</th>\n",
              "      <td>2030-12-07</td>\n",
              "    </tr>\n",
              "    <tr>\n",
              "      <th>4013</th>\n",
              "      <td>2030-12-08</td>\n",
              "    </tr>\n",
              "    <tr>\n",
              "      <th>4014</th>\n",
              "      <td>2030-12-09</td>\n",
              "    </tr>\n",
              "    <tr>\n",
              "      <th>4015</th>\n",
              "      <td>2030-12-10</td>\n",
              "    </tr>\n",
              "    <tr>\n",
              "      <th>4016</th>\n",
              "      <td>2030-12-11</td>\n",
              "    </tr>\n",
              "  </tbody>\n",
              "</table>\n",
              "</div>"
            ],
            "text/plain": [
              "             ds\n",
              "4012 2030-12-07\n",
              "4013 2030-12-08\n",
              "4014 2030-12-09\n",
              "4015 2030-12-10\n",
              "4016 2030-12-11"
            ]
          },
          "metadata": {
            "tags": []
          },
          "execution_count": 5
        }
      ]
    },
    {
      "cell_type": "markdown",
      "metadata": {
        "id": "vhS_zlOjh5-V"
      },
      "source": [
        "Reference: https://nextjournal.com/eric-brown/forecasting-with-prophet-part-4"
      ]
    },
    {
      "cell_type": "code",
      "metadata": {
        "id": "uKbM0ArWZpsd"
      },
      "source": [
        "#predict and fill in the future\r\n",
        "forecast= m.predict(future)"
      ],
      "execution_count": 6,
      "outputs": []
    },
    {
      "cell_type": "code",
      "metadata": {
        "colab": {
          "base_uri": "https://localhost:8080/",
          "height": 309
        },
        "id": "Wz3Prvp4aLqg",
        "outputId": "0d30b219-791e-4ab6-f30a-9878c6138372"
      },
      "source": [
        "forecast.head()"
      ],
      "execution_count": 7,
      "outputs": [
        {
          "output_type": "execute_result",
          "data": {
            "text/html": [
              "<div>\n",
              "<style scoped>\n",
              "    .dataframe tbody tr th:only-of-type {\n",
              "        vertical-align: middle;\n",
              "    }\n",
              "\n",
              "    .dataframe tbody tr th {\n",
              "        vertical-align: top;\n",
              "    }\n",
              "\n",
              "    .dataframe thead th {\n",
              "        text-align: right;\n",
              "    }\n",
              "</style>\n",
              "<table border=\"1\" class=\"dataframe\">\n",
              "  <thead>\n",
              "    <tr style=\"text-align: right;\">\n",
              "      <th></th>\n",
              "      <th>ds</th>\n",
              "      <th>trend</th>\n",
              "      <th>yhat_lower</th>\n",
              "      <th>yhat_upper</th>\n",
              "      <th>trend_lower</th>\n",
              "      <th>trend_upper</th>\n",
              "      <th>multiplicative_terms</th>\n",
              "      <th>multiplicative_terms_lower</th>\n",
              "      <th>multiplicative_terms_upper</th>\n",
              "      <th>weekly</th>\n",
              "      <th>weekly_lower</th>\n",
              "      <th>weekly_upper</th>\n",
              "      <th>additive_terms</th>\n",
              "      <th>additive_terms_lower</th>\n",
              "      <th>additive_terms_upper</th>\n",
              "      <th>yhat</th>\n",
              "    </tr>\n",
              "  </thead>\n",
              "  <tbody>\n",
              "    <tr>\n",
              "      <th>0</th>\n",
              "      <td>2019-09-12</td>\n",
              "      <td>179.282259</td>\n",
              "      <td>-1182.050438</td>\n",
              "      <td>1661.829083</td>\n",
              "      <td>179.282259</td>\n",
              "      <td>179.282259</td>\n",
              "      <td>-0.021287</td>\n",
              "      <td>-0.021287</td>\n",
              "      <td>-0.021287</td>\n",
              "      <td>-0.021287</td>\n",
              "      <td>-0.021287</td>\n",
              "      <td>-0.021287</td>\n",
              "      <td>0.0</td>\n",
              "      <td>0.0</td>\n",
              "      <td>0.0</td>\n",
              "      <td>175.465821</td>\n",
              "    </tr>\n",
              "    <tr>\n",
              "      <th>1</th>\n",
              "      <td>2019-10-12</td>\n",
              "      <td>239.861343</td>\n",
              "      <td>-1209.251906</td>\n",
              "      <td>1688.612466</td>\n",
              "      <td>239.861343</td>\n",
              "      <td>239.861343</td>\n",
              "      <td>-0.006507</td>\n",
              "      <td>-0.006507</td>\n",
              "      <td>-0.006507</td>\n",
              "      <td>-0.006507</td>\n",
              "      <td>-0.006507</td>\n",
              "      <td>-0.006507</td>\n",
              "      <td>0.0</td>\n",
              "      <td>0.0</td>\n",
              "      <td>0.0</td>\n",
              "      <td>238.300461</td>\n",
              "    </tr>\n",
              "    <tr>\n",
              "      <th>2</th>\n",
              "      <td>2019-11-12</td>\n",
              "      <td>302.459730</td>\n",
              "      <td>-1176.332489</td>\n",
              "      <td>1763.170272</td>\n",
              "      <td>302.459730</td>\n",
              "      <td>302.459730</td>\n",
              "      <td>0.024876</td>\n",
              "      <td>0.024876</td>\n",
              "      <td>0.024876</td>\n",
              "      <td>0.024876</td>\n",
              "      <td>0.024876</td>\n",
              "      <td>0.024876</td>\n",
              "      <td>0.0</td>\n",
              "      <td>0.0</td>\n",
              "      <td>0.0</td>\n",
              "      <td>309.983592</td>\n",
              "    </tr>\n",
              "    <tr>\n",
              "      <th>3</th>\n",
              "      <td>2019-12-12</td>\n",
              "      <td>363.038814</td>\n",
              "      <td>-1075.355641</td>\n",
              "      <td>1764.109227</td>\n",
              "      <td>363.038814</td>\n",
              "      <td>363.038814</td>\n",
              "      <td>-0.021287</td>\n",
              "      <td>-0.021287</td>\n",
              "      <td>-0.021287</td>\n",
              "      <td>-0.021287</td>\n",
              "      <td>-0.021287</td>\n",
              "      <td>-0.021287</td>\n",
              "      <td>0.0</td>\n",
              "      <td>0.0</td>\n",
              "      <td>0.0</td>\n",
              "      <td>355.310692</td>\n",
              "    </tr>\n",
              "    <tr>\n",
              "      <th>4</th>\n",
              "      <td>2019-12-13</td>\n",
              "      <td>365.058117</td>\n",
              "      <td>-1134.324761</td>\n",
              "      <td>1839.434599</td>\n",
              "      <td>365.058117</td>\n",
              "      <td>365.058117</td>\n",
              "      <td>-0.046819</td>\n",
              "      <td>-0.046819</td>\n",
              "      <td>-0.046819</td>\n",
              "      <td>-0.046819</td>\n",
              "      <td>-0.046819</td>\n",
              "      <td>-0.046819</td>\n",
              "      <td>0.0</td>\n",
              "      <td>0.0</td>\n",
              "      <td>0.0</td>\n",
              "      <td>347.966436</td>\n",
              "    </tr>\n",
              "  </tbody>\n",
              "</table>\n",
              "</div>"
            ],
            "text/plain": [
              "          ds       trend  ...  additive_terms_upper        yhat\n",
              "0 2019-09-12  179.282259  ...                   0.0  175.465821\n",
              "1 2019-10-12  239.861343  ...                   0.0  238.300461\n",
              "2 2019-11-12  302.459730  ...                   0.0  309.983592\n",
              "3 2019-12-12  363.038814  ...                   0.0  355.310692\n",
              "4 2019-12-13  365.058117  ...                   0.0  347.966436\n",
              "\n",
              "[5 rows x 16 columns]"
            ]
          },
          "metadata": {
            "tags": []
          },
          "execution_count": 7
        }
      ]
    },
    {
      "cell_type": "code",
      "metadata": {
        "colab": {
          "base_uri": "https://localhost:8080/"
        },
        "id": "x2y-JfvwaMMu",
        "outputId": "f0589673-6024-4b5c-fa6a-691214903ce7"
      },
      "source": [
        "forecast.columns"
      ],
      "execution_count": 8,
      "outputs": [
        {
          "output_type": "execute_result",
          "data": {
            "text/plain": [
              "Index(['ds', 'trend', 'yhat_lower', 'yhat_upper', 'trend_lower', 'trend_upper',\n",
              "       'multiplicative_terms', 'multiplicative_terms_lower',\n",
              "       'multiplicative_terms_upper', 'weekly', 'weekly_lower', 'weekly_upper',\n",
              "       'additive_terms', 'additive_terms_lower', 'additive_terms_upper',\n",
              "       'yhat'],\n",
              "      dtype='object')"
            ]
          },
          "metadata": {
            "tags": []
          },
          "execution_count": 8
        }
      ]
    },
    {
      "cell_type": "code",
      "metadata": {
        "colab": {
          "base_uri": "https://localhost:8080/",
          "height": 662
        },
        "id": "c4deKnwaaqoR",
        "outputId": "16fe6dca-40d7-4b83-99f6-a04515a9aa72"
      },
      "source": [
        "forecast[['ds','yhat_lower', 'yhat_upper', 'yhat' ]].tail(20)"
      ],
      "execution_count": 9,
      "outputs": [
        {
          "output_type": "execute_result",
          "data": {
            "text/html": [
              "<div>\n",
              "<style scoped>\n",
              "    .dataframe tbody tr th:only-of-type {\n",
              "        vertical-align: middle;\n",
              "    }\n",
              "\n",
              "    .dataframe tbody tr th {\n",
              "        vertical-align: top;\n",
              "    }\n",
              "\n",
              "    .dataframe thead th {\n",
              "        text-align: right;\n",
              "    }\n",
              "</style>\n",
              "<table border=\"1\" class=\"dataframe\">\n",
              "  <thead>\n",
              "    <tr style=\"text-align: right;\">\n",
              "      <th></th>\n",
              "      <th>ds</th>\n",
              "      <th>yhat_lower</th>\n",
              "      <th>yhat_upper</th>\n",
              "      <th>yhat</th>\n",
              "    </tr>\n",
              "  </thead>\n",
              "  <tbody>\n",
              "    <tr>\n",
              "      <th>3997</th>\n",
              "      <td>2030-11-22</td>\n",
              "      <td>-107888.767192</td>\n",
              "      <td>112078.273912</td>\n",
              "      <td>253.842354</td>\n",
              "    </tr>\n",
              "    <tr>\n",
              "      <th>3998</th>\n",
              "      <td>2030-11-23</td>\n",
              "      <td>-112657.137990</td>\n",
              "      <td>116953.239804</td>\n",
              "      <td>264.496178</td>\n",
              "    </tr>\n",
              "    <tr>\n",
              "      <th>3999</th>\n",
              "      <td>2030-11-24</td>\n",
              "      <td>-109566.395442</td>\n",
              "      <td>112826.505422</td>\n",
              "      <td>256.606971</td>\n",
              "    </tr>\n",
              "    <tr>\n",
              "      <th>4000</th>\n",
              "      <td>2030-11-25</td>\n",
              "      <td>-121110.056602</td>\n",
              "      <td>125400.717577</td>\n",
              "      <td>285.316413</td>\n",
              "    </tr>\n",
              "    <tr>\n",
              "      <th>4001</th>\n",
              "      <td>2030-11-26</td>\n",
              "      <td>-115931.731415</td>\n",
              "      <td>120903.085814</td>\n",
              "      <td>272.598709</td>\n",
              "    </tr>\n",
              "    <tr>\n",
              "      <th>4002</th>\n",
              "      <td>2030-11-27</td>\n",
              "      <td>-116139.323853</td>\n",
              "      <td>118964.780340</td>\n",
              "      <td>269.416073</td>\n",
              "    </tr>\n",
              "    <tr>\n",
              "      <th>4003</th>\n",
              "      <td>2030-11-28</td>\n",
              "      <td>-111192.191615</td>\n",
              "      <td>113606.194506</td>\n",
              "      <td>260.159428</td>\n",
              "    </tr>\n",
              "    <tr>\n",
              "      <th>4004</th>\n",
              "      <td>2030-11-29</td>\n",
              "      <td>-108304.122253</td>\n",
              "      <td>111805.561891</td>\n",
              "      <td>253.294342</td>\n",
              "    </tr>\n",
              "    <tr>\n",
              "      <th>4005</th>\n",
              "      <td>2030-11-30</td>\n",
              "      <td>-112077.674813</td>\n",
              "      <td>116612.385167</td>\n",
              "      <td>263.924990</td>\n",
              "    </tr>\n",
              "    <tr>\n",
              "      <th>4006</th>\n",
              "      <td>2030-12-01</td>\n",
              "      <td>-108498.492673</td>\n",
              "      <td>112210.882757</td>\n",
              "      <td>256.052648</td>\n",
              "    </tr>\n",
              "    <tr>\n",
              "      <th>4007</th>\n",
              "      <td>2030-12-02</td>\n",
              "      <td>-122811.384042</td>\n",
              "      <td>126835.881241</td>\n",
              "      <td>284.699883</td>\n",
              "    </tr>\n",
              "    <tr>\n",
              "      <th>4008</th>\n",
              "      <td>2030-12-03</td>\n",
              "      <td>-114832.142441</td>\n",
              "      <td>119527.050677</td>\n",
              "      <td>272.009477</td>\n",
              "    </tr>\n",
              "    <tr>\n",
              "      <th>4009</th>\n",
              "      <td>2030-12-04</td>\n",
              "      <td>-115593.674728</td>\n",
              "      <td>118506.639214</td>\n",
              "      <td>268.833542</td>\n",
              "    </tr>\n",
              "    <tr>\n",
              "      <th>4010</th>\n",
              "      <td>2030-12-05</td>\n",
              "      <td>-111480.583372</td>\n",
              "      <td>115270.107895</td>\n",
              "      <td>259.596737</td>\n",
              "    </tr>\n",
              "    <tr>\n",
              "      <th>4011</th>\n",
              "      <td>2030-12-06</td>\n",
              "      <td>-109365.768670</td>\n",
              "      <td>111838.707716</td>\n",
              "      <td>252.746330</td>\n",
              "    </tr>\n",
              "    <tr>\n",
              "      <th>4012</th>\n",
              "      <td>2030-12-07</td>\n",
              "      <td>-113109.410650</td>\n",
              "      <td>117193.211677</td>\n",
              "      <td>263.353801</td>\n",
              "    </tr>\n",
              "    <tr>\n",
              "      <th>4013</th>\n",
              "      <td>2030-12-08</td>\n",
              "      <td>-109106.861062</td>\n",
              "      <td>113657.386958</td>\n",
              "      <td>255.498326</td>\n",
              "    </tr>\n",
              "    <tr>\n",
              "      <th>4014</th>\n",
              "      <td>2030-12-09</td>\n",
              "      <td>-121204.461340</td>\n",
              "      <td>127224.462291</td>\n",
              "      <td>284.083352</td>\n",
              "    </tr>\n",
              "    <tr>\n",
              "      <th>4015</th>\n",
              "      <td>2030-12-10</td>\n",
              "      <td>-117536.594724</td>\n",
              "      <td>120049.489718</td>\n",
              "      <td>271.420246</td>\n",
              "    </tr>\n",
              "    <tr>\n",
              "      <th>4016</th>\n",
              "      <td>2030-12-11</td>\n",
              "      <td>-115496.945729</td>\n",
              "      <td>118478.247586</td>\n",
              "      <td>268.251010</td>\n",
              "    </tr>\n",
              "  </tbody>\n",
              "</table>\n",
              "</div>"
            ],
            "text/plain": [
              "             ds     yhat_lower     yhat_upper        yhat\n",
              "3997 2030-11-22 -107888.767192  112078.273912  253.842354\n",
              "3998 2030-11-23 -112657.137990  116953.239804  264.496178\n",
              "3999 2030-11-24 -109566.395442  112826.505422  256.606971\n",
              "4000 2030-11-25 -121110.056602  125400.717577  285.316413\n",
              "4001 2030-11-26 -115931.731415  120903.085814  272.598709\n",
              "4002 2030-11-27 -116139.323853  118964.780340  269.416073\n",
              "4003 2030-11-28 -111192.191615  113606.194506  260.159428\n",
              "4004 2030-11-29 -108304.122253  111805.561891  253.294342\n",
              "4005 2030-11-30 -112077.674813  116612.385167  263.924990\n",
              "4006 2030-12-01 -108498.492673  112210.882757  256.052648\n",
              "4007 2030-12-02 -122811.384042  126835.881241  284.699883\n",
              "4008 2030-12-03 -114832.142441  119527.050677  272.009477\n",
              "4009 2030-12-04 -115593.674728  118506.639214  268.833542\n",
              "4010 2030-12-05 -111480.583372  115270.107895  259.596737\n",
              "4011 2030-12-06 -109365.768670  111838.707716  252.746330\n",
              "4012 2030-12-07 -113109.410650  117193.211677  263.353801\n",
              "4013 2030-12-08 -109106.861062  113657.386958  255.498326\n",
              "4014 2030-12-09 -121204.461340  127224.462291  284.083352\n",
              "4015 2030-12-10 -117536.594724  120049.489718  271.420246\n",
              "4016 2030-12-11 -115496.945729  118478.247586  268.251010"
            ]
          },
          "metadata": {
            "tags": []
          },
          "execution_count": 9
        }
      ]
    },
    {
      "cell_type": "code",
      "metadata": {
        "colab": {
          "base_uri": "https://localhost:8080/",
          "height": 459
        },
        "id": "mgY7IJxfa-lS",
        "outputId": "6b2570c5-f27d-4ce1-9529-466dddeca0fe"
      },
      "source": [
        "import matplotlib.pyplot as plt\r\n",
        "m.plot(forecast);\r\n",
        "plt.xlim()"
      ],
      "execution_count": 10,
      "outputs": [
        {
          "output_type": "execute_result",
          "data": {
            "text/plain": [
              "(737108.6, 741627.4)"
            ]
          },
          "metadata": {
            "tags": []
          },
          "execution_count": 10
        },
        {
          "output_type": "display_data",
          "data": {
            "image/png": "[encoded data removed]",
            "text/plain": [
              "<Figure size 720x432 with 1 Axes>"
            ]
          },
          "metadata": {
            "tags": []
          }
        }
      ]
    },
    {
      "cell_type": "code",
      "metadata": {
        "colab": {
          "base_uri": "https://localhost:8080/",
          "height": 287
        },
        "id": "oGfDd5vsbMxM",
        "outputId": "9d17d2ee-0ac6-4682-e46a-3f9f09e22c08"
      },
      "source": [
        "forecast.plot(x='ds', y= 'yhat')"
      ],
      "execution_count": 11,
      "outputs": [
        {
          "output_type": "execute_result",
          "data": {
            "text/plain": [
              "<matplotlib.axes._subplots.AxesSubplot at 0x7f1de87c6240>"
            ]
          },
          "metadata": {
            "tags": []
          },
          "execution_count": 11
        },
        {
          "output_type": "display_data",
          "data": {
            "image/png": "[encoded data removed]",
            "text/plain": [
              "<Figure size 432x288 with 1 Axes>"
            ]
          },
          "metadata": {
            "tags": [],
            "needs_background": "light"
          }
        }
      ]
    },
    {
      "cell_type": "code",
      "metadata": {
        "colab": {
          "base_uri": "https://localhost:8080/",
          "height": 865
        },
        "id": "EU9BY40Dc0S9",
        "outputId": "5616fed0-fcff-4c49-8774-b5f1cb6929ad"
      },
      "source": [
        "m.plot_components(forecast)"
      ],
      "execution_count": 12,
      "outputs": [
        {
          "output_type": "execute_result",
          "data": {
            "image/png": "[encoded data removed]",
            "text/plain": [
              "<Figure size 648x432 with 2 Axes>"
            ]
          },
          "metadata": {
            "tags": []
          },
          "execution_count": 12
        },
        {
          "output_type": "display_data",
          "data": {
            "image/png": "[encoded data removed]",
            "text/plain": [
              "<Figure size 648x432 with 2 Axes>"
            ]
          },
          "metadata": {
            "tags": []
          }
        }
      ]
    },
    {
      "cell_type": "markdown",
      "metadata": {
        "id": "WCjuCdXPfExU"
      },
      "source": [
        "Reference : Diagnostics https://facebook.github.io/prophet/docs/diagnostics.html\r\n",
        "\r\n",
        "https://facebook.github.io/prophet/docs/quick_start.html"
      ]
    },
    {
      "cell_type": "code",
      "metadata": {
        "colab": {
          "base_uri": "https://localhost:8080/",
          "height": 84,
          "referenced_widgets": [
            "00e82b07773e41ce94c8d8389a205fc1",
            "d6d31a1e99104c0c990abbdf984ebb53",
            "03e633794bd64e37942fbbf2dad7b930",
            "fd343b5307634e81958f7f93d33ebb2f",
            "cb424caa98ff4a508402416aa4be62bf",
            "0fca8fd6b6984b8989991ce9620fdb91",
            "e544507a16bc49d594c88c75effd9c74",
            "e6c1b5c49376434ca4290ba89ed21ad5"
          ]
        },
        "id": "fod6VOUZd78X",
        "outputId": "7344f340-ac96-4454-b33d-28e5d5129bf0"
      },
      "source": [
        "#Here we do cross-validation to assess prediction performance on a horizon of 60 days, starting with 180 days of training data in the first cutoff and then making predictions every 18 days.\r\n",
        "#On this 1 year time series, this corresponds to 8 total forecasts.\r\n",
        "from fbprophet.diagnostics import cross_validation\r\n",
        "df_cv = cross_validation(m, initial='180 days', period='30 days', horizon = '60 days')\r\n"
      ],
      "execution_count": 13,
      "outputs": [
        {
          "output_type": "stream",
          "text": [
            "INFO:fbprophet:Making 8 forecasts with cutoffs between 2020-03-16 00:00:00 and 2020-10-12 00:00:00\n"
          ],
          "name": "stderr"
        },
        {
          "output_type": "display_data",
          "data": {
            "application/vnd.jupyter.widget-view+json": {
              "model_id": "00e82b07773e41ce94c8d8389a205fc1",
              "version_minor": 0,
              "version_major": 2
            },
            "text/plain": [
              "HBox(children=(FloatProgress(value=0.0, max=8.0), HTML(value='')))"
            ]
          },
          "metadata": {
            "tags": []
          }
        },
        {
          "output_type": "stream",
          "text": [
            "\n"
          ],
          "name": "stdout"
        }
      ]
    },
    {
      "cell_type": "code",
      "metadata": {
        "colab": {
          "base_uri": "https://localhost:8080/",
          "height": 219
        },
        "id": "v-5FjDZod0t6",
        "outputId": "2656e297-69cd-42cc-c9ef-f2b8666ab13f"
      },
      "source": [
        "from fbprophet.diagnostics import performance_metrics\r\n",
        "df_p = performance_metrics(df_cv)\r\n",
        "df_p.head()"
      ],
      "execution_count": 15,
      "outputs": [
        {
          "output_type": "stream",
          "text": [
            "INFO:fbprophet:Skipping MAPE because y close to 0\n"
          ],
          "name": "stderr"
        },
        {
          "output_type": "execute_result",
          "data": {
            "text/html": [
              "<div>\n",
              "<style scoped>\n",
              "    .dataframe tbody tr th:only-of-type {\n",
              "        vertical-align: middle;\n",
              "    }\n",
              "\n",
              "    .dataframe tbody tr th {\n",
              "        vertical-align: top;\n",
              "    }\n",
              "\n",
              "    .dataframe thead th {\n",
              "        text-align: right;\n",
              "    }\n",
              "</style>\n",
              "<table border=\"1\" class=\"dataframe\">\n",
              "  <thead>\n",
              "    <tr style=\"text-align: right;\">\n",
              "      <th></th>\n",
              "      <th>horizon</th>\n",
              "      <th>mse</th>\n",
              "      <th>rmse</th>\n",
              "      <th>mae</th>\n",
              "      <th>mdape</th>\n",
              "      <th>coverage</th>\n",
              "    </tr>\n",
              "  </thead>\n",
              "  <tbody>\n",
              "    <tr>\n",
              "      <th>0</th>\n",
              "      <td>6 days</td>\n",
              "      <td>1.643927e+06</td>\n",
              "      <td>1282.157142</td>\n",
              "      <td>999.356507</td>\n",
              "      <td>6.862183</td>\n",
              "      <td>0.818322</td>\n",
              "    </tr>\n",
              "    <tr>\n",
              "      <th>1</th>\n",
              "      <td>7 days</td>\n",
              "      <td>1.743428e+06</td>\n",
              "      <td>1320.389466</td>\n",
              "      <td>1035.838121</td>\n",
              "      <td>6.396508</td>\n",
              "      <td>0.803497</td>\n",
              "    </tr>\n",
              "    <tr>\n",
              "      <th>2</th>\n",
              "      <td>8 days</td>\n",
              "      <td>1.796577e+06</td>\n",
              "      <td>1340.364483</td>\n",
              "      <td>1051.644133</td>\n",
              "      <td>6.411994</td>\n",
              "      <td>0.794778</td>\n",
              "    </tr>\n",
              "    <tr>\n",
              "      <th>3</th>\n",
              "      <td>9 days</td>\n",
              "      <td>1.832685e+06</td>\n",
              "      <td>1353.767128</td>\n",
              "      <td>1063.071418</td>\n",
              "      <td>5.749847</td>\n",
              "      <td>0.788823</td>\n",
              "    </tr>\n",
              "    <tr>\n",
              "      <th>4</th>\n",
              "      <td>10 days</td>\n",
              "      <td>1.854708e+06</td>\n",
              "      <td>1361.876614</td>\n",
              "      <td>1070.931673</td>\n",
              "      <td>5.701133</td>\n",
              "      <td>0.784169</td>\n",
              "    </tr>\n",
              "  </tbody>\n",
              "</table>\n",
              "</div>"
            ],
            "text/plain": [
              "  horizon           mse         rmse          mae     mdape  coverage\n",
              "0  6 days  1.643927e+06  1282.157142   999.356507  6.862183  0.818322\n",
              "1  7 days  1.743428e+06  1320.389466  1035.838121  6.396508  0.803497\n",
              "2  8 days  1.796577e+06  1340.364483  1051.644133  6.411994  0.794778\n",
              "3  9 days  1.832685e+06  1353.767128  1063.071418  5.749847  0.788823\n",
              "4 10 days  1.854708e+06  1361.876614  1070.931673  5.701133  0.784169"
            ]
          },
          "metadata": {
            "tags": []
          },
          "execution_count": 15
        }
      ]
    },
    {
      "cell_type": "code",
      "metadata": {
        "id": "18F7p2eQiceg"
      },
      "source": [
        "metric_df = forecast.set_index('ds')[['yhat']].join(df.set_index('ds').y).reset_index()"
      ],
      "execution_count": 16,
      "outputs": []
    },
    {
      "cell_type": "code",
      "metadata": {
        "colab": {
          "base_uri": "https://localhost:8080/",
          "height": 202
        },
        "id": "6BK-yLD4ifjF",
        "outputId": "5e337819-fa4d-4101-ab29-bc68fc52af2c"
      },
      "source": [
        "metric_df.tail()"
      ],
      "execution_count": 17,
      "outputs": [
        {
          "output_type": "execute_result",
          "data": {
            "text/html": [
              "<div>\n",
              "<style scoped>\n",
              "    .dataframe tbody tr th:only-of-type {\n",
              "        vertical-align: middle;\n",
              "    }\n",
              "\n",
              "    .dataframe tbody tr th {\n",
              "        vertical-align: top;\n",
              "    }\n",
              "\n",
              "    .dataframe thead th {\n",
              "        text-align: right;\n",
              "    }\n",
              "</style>\n",
              "<table border=\"1\" class=\"dataframe\">\n",
              "  <thead>\n",
              "    <tr style=\"text-align: right;\">\n",
              "      <th></th>\n",
              "      <th>ds</th>\n",
              "      <th>yhat</th>\n",
              "      <th>y</th>\n",
              "    </tr>\n",
              "  </thead>\n",
              "  <tbody>\n",
              "    <tr>\n",
              "      <th>108626</th>\n",
              "      <td>2030-12-07</td>\n",
              "      <td>263.353801</td>\n",
              "      <td>NaN</td>\n",
              "    </tr>\n",
              "    <tr>\n",
              "      <th>108627</th>\n",
              "      <td>2030-12-08</td>\n",
              "      <td>255.498326</td>\n",
              "      <td>NaN</td>\n",
              "    </tr>\n",
              "    <tr>\n",
              "      <th>108628</th>\n",
              "      <td>2030-12-09</td>\n",
              "      <td>284.083352</td>\n",
              "      <td>NaN</td>\n",
              "    </tr>\n",
              "    <tr>\n",
              "      <th>108629</th>\n",
              "      <td>2030-12-10</td>\n",
              "      <td>271.420246</td>\n",
              "      <td>NaN</td>\n",
              "    </tr>\n",
              "    <tr>\n",
              "      <th>108630</th>\n",
              "      <td>2030-12-11</td>\n",
              "      <td>268.251010</td>\n",
              "      <td>NaN</td>\n",
              "    </tr>\n",
              "  </tbody>\n",
              "</table>\n",
              "</div>"
            ],
            "text/plain": [
              "               ds        yhat   y\n",
              "108626 2030-12-07  263.353801 NaN\n",
              "108627 2030-12-08  255.498326 NaN\n",
              "108628 2030-12-09  284.083352 NaN\n",
              "108629 2030-12-10  271.420246 NaN\n",
              "108630 2030-12-11  268.251010 NaN"
            ]
          },
          "metadata": {
            "tags": []
          },
          "execution_count": 17
        }
      ]
    },
    {
      "cell_type": "markdown",
      "metadata": {
        "id": "uRO9gw0diqLJ"
      },
      "source": [
        "You can see from the above, that the last part of the dataframe has NaN for y... that's fine because we are only concerned about checking the forecast values versus the actual values so we can drop these NaN values."
      ]
    },
    {
      "cell_type": "code",
      "metadata": {
        "id": "OqRPaGMtiuH4"
      },
      "source": [
        "metric_df.dropna(inplace=True)"
      ],
      "execution_count": 18,
      "outputs": []
    },
    {
      "cell_type": "code",
      "metadata": {
        "colab": {
          "base_uri": "https://localhost:8080/",
          "height": 202
        },
        "id": "xSfg2H9Gi5JL",
        "outputId": "417718d7-6184-4f4b-c35e-6d36d62012a5"
      },
      "source": [
        "metric_df.tail()"
      ],
      "execution_count": 19,
      "outputs": [
        {
          "output_type": "execute_result",
          "data": {
            "text/html": [
              "<div>\n",
              "<style scoped>\n",
              "    .dataframe tbody tr th:only-of-type {\n",
              "        vertical-align: middle;\n",
              "    }\n",
              "\n",
              "    .dataframe tbody tr th {\n",
              "        vertical-align: top;\n",
              "    }\n",
              "\n",
              "    .dataframe thead th {\n",
              "        text-align: right;\n",
              "    }\n",
              "</style>\n",
              "<table border=\"1\" class=\"dataframe\">\n",
              "  <thead>\n",
              "    <tr style=\"text-align: right;\">\n",
              "      <th></th>\n",
              "      <th>ds</th>\n",
              "      <th>yhat</th>\n",
              "      <th>y</th>\n",
              "    </tr>\n",
              "  </thead>\n",
              "  <tbody>\n",
              "    <tr>\n",
              "      <th>104974</th>\n",
              "      <td>2020-12-11</td>\n",
              "      <td>538.260584</td>\n",
              "      <td>0.0</td>\n",
              "    </tr>\n",
              "    <tr>\n",
              "      <th>104975</th>\n",
              "      <td>2020-12-11</td>\n",
              "      <td>538.260584</td>\n",
              "      <td>0.0</td>\n",
              "    </tr>\n",
              "    <tr>\n",
              "      <th>104976</th>\n",
              "      <td>2020-12-11</td>\n",
              "      <td>538.260584</td>\n",
              "      <td>0.0</td>\n",
              "    </tr>\n",
              "    <tr>\n",
              "      <th>104977</th>\n",
              "      <td>2020-12-11</td>\n",
              "      <td>538.260584</td>\n",
              "      <td>0.0</td>\n",
              "    </tr>\n",
              "    <tr>\n",
              "      <th>104978</th>\n",
              "      <td>2020-12-11</td>\n",
              "      <td>538.260584</td>\n",
              "      <td>0.0</td>\n",
              "    </tr>\n",
              "  </tbody>\n",
              "</table>\n",
              "</div>"
            ],
            "text/plain": [
              "               ds        yhat    y\n",
              "104974 2020-12-11  538.260584  0.0\n",
              "104975 2020-12-11  538.260584  0.0\n",
              "104976 2020-12-11  538.260584  0.0\n",
              "104977 2020-12-11  538.260584  0.0\n",
              "104978 2020-12-11  538.260584  0.0"
            ]
          },
          "metadata": {
            "tags": []
          },
          "execution_count": 19
        }
      ]
    },
    {
      "cell_type": "code",
      "metadata": {
        "colab": {
          "base_uri": "https://localhost:8080/",
          "height": 202
        },
        "id": "83qPLCK8WF4R",
        "outputId": "07704f49-0a2b-430f-dcb0-06ebf0bb8a56"
      },
      "source": [
        "metric_df.head()"
      ],
      "execution_count": 20,
      "outputs": [
        {
          "output_type": "execute_result",
          "data": {
            "text/html": [
              "<div>\n",
              "<style scoped>\n",
              "    .dataframe tbody tr th:only-of-type {\n",
              "        vertical-align: middle;\n",
              "    }\n",
              "\n",
              "    .dataframe tbody tr th {\n",
              "        vertical-align: top;\n",
              "    }\n",
              "\n",
              "    .dataframe thead th {\n",
              "        text-align: right;\n",
              "    }\n",
              "</style>\n",
              "<table border=\"1\" class=\"dataframe\">\n",
              "  <thead>\n",
              "    <tr style=\"text-align: right;\">\n",
              "      <th></th>\n",
              "      <th>ds</th>\n",
              "      <th>yhat</th>\n",
              "      <th>y</th>\n",
              "    </tr>\n",
              "  </thead>\n",
              "  <tbody>\n",
              "    <tr>\n",
              "      <th>0</th>\n",
              "      <td>2019-09-12</td>\n",
              "      <td>175.465821</td>\n",
              "      <td>0.0</td>\n",
              "    </tr>\n",
              "    <tr>\n",
              "      <th>1</th>\n",
              "      <td>2019-09-12</td>\n",
              "      <td>175.465821</td>\n",
              "      <td>0.0</td>\n",
              "    </tr>\n",
              "    <tr>\n",
              "      <th>2</th>\n",
              "      <td>2019-09-12</td>\n",
              "      <td>175.465821</td>\n",
              "      <td>0.0</td>\n",
              "    </tr>\n",
              "    <tr>\n",
              "      <th>3</th>\n",
              "      <td>2019-09-12</td>\n",
              "      <td>175.465821</td>\n",
              "      <td>0.0</td>\n",
              "    </tr>\n",
              "    <tr>\n",
              "      <th>4</th>\n",
              "      <td>2019-09-12</td>\n",
              "      <td>175.465821</td>\n",
              "      <td>0.0</td>\n",
              "    </tr>\n",
              "  </tbody>\n",
              "</table>\n",
              "</div>"
            ],
            "text/plain": [
              "          ds        yhat    y\n",
              "0 2019-09-12  175.465821  0.0\n",
              "1 2019-09-12  175.465821  0.0\n",
              "2 2019-09-12  175.465821  0.0\n",
              "3 2019-09-12  175.465821  0.0\n",
              "4 2019-09-12  175.465821  0.0"
            ]
          },
          "metadata": {
            "tags": []
          },
          "execution_count": 20
        }
      ]
    },
    {
      "cell_type": "code",
      "metadata": {
        "colab": {
          "base_uri": "https://localhost:8080/"
        },
        "id": "loKFWoSBjCXE",
        "outputId": "3b290de0-d1bc-40cf-a5e1-a7a06a72d715"
      },
      "source": [
        "#calculation of Root squared score\r\n",
        "from sklearn.metrics import r2_score\r\n",
        "r2_score(metric_df.y, metric_df.yhat)"
      ],
      "execution_count": 21,
      "outputs": [
        {
          "output_type": "execute_result",
          "data": {
            "text/plain": [
              "0.030407495012017227"
            ]
          },
          "metadata": {
            "tags": []
          },
          "execution_count": 21
        }
      ]
    },
    {
      "cell_type": "code",
      "metadata": {
        "colab": {
          "base_uri": "https://localhost:8080/"
        },
        "id": "s4HrbzXQjdwr",
        "outputId": "42fd59f7-acaf-4ed2-e34b-720850d43a9d"
      },
      "source": [
        "#calculating root mean square error . For MSE, closer to zero is better\r\n",
        "from sklearn.metrics import mean_squared_error\r\n",
        "from math import sqrt\r\n",
        "mse= mean_squared_error(metric_df.y, metric_df.yhat)\r\n",
        "rmse = sqrt(mse)\r\n",
        "print(\"The root mean square error is:\", rmse)"
      ],
      "execution_count": 22,
      "outputs": [
        {
          "output_type": "stream",
          "text": [
            "The root mean square error is: 1133.485425976007\n"
          ],
          "name": "stdout"
        }
      ]
    },
    {
      "cell_type": "code",
      "metadata": {
        "id": "WXXylDkwjwGW"
      },
      "source": [
        ""
      ],
      "execution_count": null,
      "outputs": []
    }
  ]
}