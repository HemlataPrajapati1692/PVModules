{
 "cells": [
  {
   "cell_type": "code",
   "execution_count": 8,
   "metadata": {},
   "outputs": [],
   "source": [
    "import time\n",
    "import psycopg2\n",
    "import datetime\n",
    "from config import config\n",
    "import pandas as pd\n",
    "import numpy as np\n",
    "import matplotlib.pyplot as plt\n",
    "from math import sqrt"
   ]
  },
  {
   "cell_type": "markdown",
   "metadata": {},
   "source": [
    "## Establishing connection to Database"
   ]
  },
  {
   "cell_type": "code",
   "execution_count": 9,
   "metadata": {},
   "outputs": [
    {
     "name": "stdout",
     "output_type": "stream",
     "text": [
      "Connecting to the PostgreSQL database...\n",
      "PostgreSQL database version:\n",
      "('PostgreSQL 13.0 (Debian 13.0-1.pgdg100+1) on x86_64-pc-linux-gnu, compiled by gcc (Debian 8.3.0-6) 8.3.0, 64-bit',)\n",
      "Database connection closed.\n"
     ]
    }
   ],
   "source": [
    "conn = None\n",
    "\n",
    "try:\n",
    "    # read connection parameters\n",
    "    params = config()\n",
    "\n",
    "    # connect to the PostgreSQL server\n",
    "    print('Connecting to the PostgreSQL database...')\n",
    "    conn = psycopg2.connect(**params)\n",
    "\n",
    "    # create a cursor\n",
    "    cur = conn.cursor()\n",
    "        \n",
    "    # execute a statement, display the PostgreSQL database server version\n",
    "    print('PostgreSQL database version:')\n",
    "    cur.execute('SELECT version()')\n",
    "    db_version = cur.fetchone()\n",
    "    print(db_version)\n",
    "       \n",
    "    # execute a statement, fech pv ids\n",
    "    \n",
    "    cur.execute('SELECT date,time, yield FROM daily_yield')\n",
    "    result = cur.fetchall()\n",
    "    \n",
    "    # close the communication with the PostgreSQL\n",
    "    cur.close()\n",
    "    \n",
    "except (Exception, psycopg2.DatabaseError) as error:\n",
    "    print(error)\n",
    "    \n",
    "finally:\n",
    "    if conn is not None:\n",
    "        conn.close()\n",
    "        print('Database connection closed.')"
   ]
  },
  {
   "cell_type": "code",
   "execution_count": 11,
   "metadata": {},
   "outputs": [
    {
     "name": "stdout",
     "output_type": "stream",
     "text": [
      "(datetime.date(2020, 7, 21), datetime.time(15, 15), Decimal('1660.00'))\n"
     ]
    }
   ],
   "source": [
    "print(result[0])"
   ]
  },
  {
   "cell_type": "markdown",
   "metadata": {},
   "source": [
    "## Data Preparation\n",
    "Converting SQL values to Dataframe, then convert the time column to datetime column and convert yield to numeric values"
   ]
  },
  {
   "cell_type": "code",
   "execution_count": 12,
   "metadata": {},
   "outputs": [
    {
     "name": "stdout",
     "output_type": "stream",
     "text": [
      "               date      time    yield\n",
      "0        2020-07-21  15:15:00  1660.00\n",
      "1        2020-07-21  15:20:00  3290.00\n",
      "2        2020-07-21  15:25:00  4250.00\n",
      "3        2020-07-21  15:30:00  4210.00\n",
      "4        2020-07-21  15:35:00  4080.00\n",
      "...             ...       ...      ...\n",
      "3938765  2020-07-16  17:45:00   737.00\n",
      "3938766  2020-07-16  17:50:00   550.00\n",
      "3938767  2020-07-16  17:55:00   497.00\n",
      "3938768  2020-07-16  18:00:00   514.00\n",
      "3938769  2020-07-16  18:05:00   541.00\n",
      "\n",
      "[3938770 rows x 3 columns]\n"
     ]
    }
   ],
   "source": [
    "import pandas\n",
    "df= pandas.DataFrame(result, columns=['date','time','yield'])\n",
    "print(df)"
   ]
  },
  {
   "cell_type": "code",
   "execution_count": 13,
   "metadata": {},
   "outputs": [],
   "source": [
    "#combining date and time column into one to convert it to datetime64 format\n",
    "from datetime import datetime\n",
    "df['date']=df.apply(lambda r : datetime.combine(r['date'],r['time']),1)"
   ]
  },
  {
   "cell_type": "code",
   "execution_count": 14,
   "metadata": {},
   "outputs": [
    {
     "name": "stdout",
     "output_type": "stream",
     "text": [
      "                       date      time    yield\n",
      "0       2020-07-21 15:15:00  15:15:00  1660.00\n",
      "1       2020-07-21 15:20:00  15:20:00  3290.00\n",
      "2       2020-07-21 15:25:00  15:25:00  4250.00\n",
      "3       2020-07-21 15:30:00  15:30:00  4210.00\n",
      "4       2020-07-21 15:35:00  15:35:00  4080.00\n",
      "...                     ...       ...      ...\n",
      "3938765 2020-07-16 17:45:00  17:45:00   737.00\n",
      "3938766 2020-07-16 17:50:00  17:50:00   550.00\n",
      "3938767 2020-07-16 17:55:00  17:55:00   497.00\n",
      "3938768 2020-07-16 18:00:00  18:00:00   514.00\n",
      "3938769 2020-07-16 18:05:00  18:05:00   541.00\n",
      "\n",
      "[3938770 rows x 3 columns]\n"
     ]
    }
   ],
   "source": [
    "print(df)"
   ]
  },
  {
   "cell_type": "code",
   "execution_count": 15,
   "metadata": {},
   "outputs": [],
   "source": [
    "#Now, drop the time column and set the index to 'date'\n",
    "df= df.drop(['time'], axis=1)\n",
    "         "
   ]
  },
  {
   "cell_type": "code",
   "execution_count": 16,
   "metadata": {},
   "outputs": [],
   "source": [
    "df= df.set_index('date')"
   ]
  },
  {
   "cell_type": "code",
   "execution_count": 17,
   "metadata": {},
   "outputs": [
    {
     "name": "stdout",
     "output_type": "stream",
     "text": [
      "                       yield\n",
      "date                        \n",
      "2020-07-21 15:15:00  1660.00\n",
      "2020-07-21 15:20:00  3290.00\n",
      "2020-07-21 15:25:00  4250.00\n",
      "2020-07-21 15:30:00  4210.00\n",
      "2020-07-21 15:35:00  4080.00\n",
      "...                      ...\n",
      "2020-07-16 17:45:00   737.00\n",
      "2020-07-16 17:50:00   550.00\n",
      "2020-07-16 17:55:00   497.00\n",
      "2020-07-16 18:00:00   514.00\n",
      "2020-07-16 18:05:00   541.00\n",
      "\n",
      "[3938770 rows x 1 columns]\n"
     ]
    }
   ],
   "source": [
    "print(df)"
   ]
  },
  {
   "cell_type": "code",
   "execution_count": 18,
   "metadata": {},
   "outputs": [],
   "source": [
    "#Values of yield is decimal, it's important to convert them to Numeric values to plot graphs etc\n",
    "import pandas as pd\n",
    "df[\"yield\"] = pd.to_numeric(df[\"yield\"])"
   ]
  },
  {
   "cell_type": "code",
   "execution_count": 19,
   "metadata": {},
   "outputs": [
    {
     "name": "stdout",
     "output_type": "stream",
     "text": [
      "date\n",
      "2020-07-21 15:15:00    1660.0\n",
      "2020-07-21 15:20:00    3290.0\n",
      "2020-07-21 15:25:00    4250.0\n",
      "2020-07-21 15:30:00    4210.0\n",
      "2020-07-21 15:35:00    4080.0\n",
      "                        ...  \n",
      "2020-07-16 17:45:00     737.0\n",
      "2020-07-16 17:50:00     550.0\n",
      "2020-07-16 17:55:00     497.0\n",
      "2020-07-16 18:00:00     514.0\n",
      "2020-07-16 18:05:00     541.0\n",
      "Name: yield, Length: 3938770, dtype: float64\n"
     ]
    }
   ],
   "source": [
    "print(df['yield'])"
   ]
  },
  {
   "cell_type": "markdown",
   "metadata": {},
   "source": [
    "## Dataframe plotting and correlation plotting"
   ]
  },
  {
   "cell_type": "code",
   "execution_count": 20,
   "metadata": {},
   "outputs": [
    {
     "data": {
      "text/plain": [
       "<AxesSubplot:xlabel='date'>"
      ]
     },
     "execution_count": 20,
     "metadata": {},
     "output_type": "execute_result"
    },
    {
     "data": {
      "image/png": "[encoded data removed]",
      "text/plain": [
       "<Figure size 432x288 with 1 Axes>"
      ]
     },
     "metadata": {
      "needs_background": "light"
     },
     "output_type": "display_data"
    }
   ],
   "source": [
    "df.plot()"
   ]
  },
  {
   "cell_type": "code",
   "execution_count": 20,
   "metadata": {},
   "outputs": [
    {
     "data": {
      "image/png": "[encoded data removed]",
      "text/plain": [
       "<Figure size 432x288 with 1 Axes>"
      ]
     },
     "execution_count": 20,
     "metadata": {},
     "output_type": "execute_result"
    },
    {
     "data": {
      "image/png": "[encoded data removed]",
      "text/plain": [
       "<Figure size 432x288 with 1 Axes>"
      ]
     },
     "metadata": {
      "needs_background": "light"
     },
     "output_type": "display_data"
    },
    {
     "data": {
      "image/png": "[encoded data removed]",
      "text/plain": [
       "<Figure size 432x288 with 1 Axes>"
      ]
     },
     "metadata": {
      "needs_background": "light"
     },
     "output_type": "display_data"
    }
   ],
   "source": [
    "#Note: Due to large dataset,this took me 3 hours to run and plot correlation\n",
    "from statsmodels.graphics.tsaplots import plot_acf,plot_pacf\n",
    "plot_acf(df)\n",
    "plot_pacf(df)"
   ]
  },
  {
   "cell_type": "markdown",
   "metadata": {},
   "source": [
    "## MODEL BUILDING- SARIMAX\n",
    "Refrence for pdarima- https://alkaline-ml.com/pmdarima/modules/generated/pmdarima.arima.auto_arima.html"
   ]
  },
  {
   "cell_type": "code",
   "execution_count": 21,
   "metadata": {},
   "outputs": [],
   "source": [
    "import warnings\n",
    "warnings.filterwarnings(\"ignore\")"
   ]
  },
  {
   "cell_type": "code",
   "execution_count": 22,
   "metadata": {},
   "outputs": [],
   "source": [
    "from statsmodels.tsa.arima_model import ARMA,ARIMA, ARMAResults, ARIMAResults"
   ]
  },
  {
   "cell_type": "code",
   "execution_count": 23,
   "metadata": {},
   "outputs": [],
   "source": [
    "#using pmdarima to determine the best parameters (plag, order, qlag) \n",
    "#from pmdarima import auto_arima \n",
    "#auto_arima(df['yield'],seasonal=False).summary()"
   ]
  },
  {
   "cell_type": "code",
   "execution_count": 24,
   "metadata": {},
   "outputs": [
    {
     "name": "stdout",
     "output_type": "stream",
     "text": [
      "Test RMSE: 2768.052\n"
     ]
    }
   ],
   "source": [
    "from sklearn.metrics import mean_squared_error\n",
    "from math import sqrt\n",
    "from statsmodels.tsa.statespace.sarimax import SARIMAX\n",
    "model = SARIMAX(df['yield'].values,order=(0,0,1))\n",
    "model_fit= model.fit()\n",
    "rmse = sqrt(mean_squared_error(df['yield'].values,model_fit.fittedvalues)) \n",
    "print('Test RMSE: %.3f' % rmse)"
   ]
  },
  {
   "cell_type": "code",
   "execution_count": null,
   "metadata": {},
   "outputs": [],
   "source": []
  }
 ],
 "metadata": {
  "kernelspec": {
   "display_name": "Python 3",
   "language": "python",
   "name": "python3"
  },
  "language_info": {
   "codemirror_mode": {
    "name": "ipython",
    "version": 3
   },
   "file_extension": ".py",
   "mimetype": "text/x-python",
   "name": "python",
   "nbconvert_exporter": "python",
   "pygments_lexer": "ipython3",
   "version": "3.7.9"
  }
 },
 "nbformat": 4,
 "nbformat_minor": 4
}
