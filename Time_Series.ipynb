{
 "cells": [
  {
   "cell_type": "code",
   "execution_count": 2,
   "metadata": {
    "id": "Hau9-PJOwNZP"
   },
   "outputs": [],
   "source": [
    "import pandas as pd\n",
    "import numpy as np\n",
    "import matplotlib.pyplot as plt"
   ]
  },
  {
   "cell_type": "markdown",
   "metadata": {
    "id": "3vHHCsolNoNr"
   },
   "source": [
    "#Data Preparation\n",
    "Database consists of 100,000 enteries for yield production for a week(1 jan to 7 Jan) from different plants\n",
    "*I have manually changed the format in csv file to yy-mm-dd to match the format with Pandas Datatime. Also the commas(,) have been relpaced with (.)*"
   ]
  },
  {
   "cell_type": "code",
   "execution_count": 41,
   "metadata": {
    "id": "kVhvX99byM0z"
   },
   "outputs": [],
   "source": [
    "df= pd.read_csv('plantsYieldGmi.csv',sep=';', squeeze=True, parse_dates=True, header=0, index_col= 'date') #usecols=[1,2])\n",
    "#df = df.apply(lambda x: x.str.replace(',','.'))\n",
    "#df= df.drop(['id', 'unit'], axis=1)"
   ]
  },
  {
   "cell_type": "code",
   "execution_count": 42,
   "metadata": {
    "colab": {
     "base_uri": "https://localhost:8080/"
    },
    "id": "t2SDeFkOKbgd",
    "outputId": "8f2308d4-e99c-4340-a00f-482d6ab452c0"
   },
   "outputs": [
    {
     "name": "stdout",
     "output_type": "stream",
     "text": [
      "date\n",
      "2019-01-01    0.00\n",
      "2019-01-01    0.00\n",
      "2019-01-01    0.00\n",
      "2019-01-01    0.00\n",
      "2019-01-01    0.00\n",
      "              ... \n",
      "2019-01-07    0.96\n",
      "2019-01-07    0.96\n",
      "2019-01-07    0.96\n",
      "2019-01-07    0.96\n",
      "2019-01-07    0.96\n",
      "Name: yield, Length: 100000, dtype: float64\n"
     ]
    }
   ],
   "source": [
    "print(df['yield'])"
   ]
  },
  {
   "cell_type": "code",
   "execution_count": 43,
   "metadata": {
    "colab": {
     "base_uri": "https://localhost:8080/",
     "height": 265
    },
    "id": "mktHxJvW92PP",
    "outputId": "91d5c89d-42f2-4942-b41d-73c4750e7c62"
   },
   "outputs": [
    {
     "data": {
      "image/png": "[encoded data removed]",
      "text/plain": [
       "<Figure size 432x288 with 1 Axes>"
      ]
     },
     "metadata": {
      "needs_background": "light",
      "tags": []
     },
     "output_type": "display_data"
    }
   ],
   "source": [
    "df['yield'].hist()\n",
    "plt.show()"
   ]
  },
  {
   "cell_type": "code",
   "execution_count": 45,
   "metadata": {
    "colab": {
     "base_uri": "https://localhost:8080/",
     "height": 233
    },
    "id": "mipFxOC3yifs",
    "outputId": "35752f8d-188b-4c65-a5e7-7d9ba03aea3f"
   },
   "outputs": [
    {
     "data": {
      "text/html": [
       "<div>\n",
       "<style scoped>\n",
       "    .dataframe tbody tr th:only-of-type {\n",
       "        vertical-align: middle;\n",
       "    }\n",
       "\n",
       "    .dataframe tbody tr th {\n",
       "        vertical-align: top;\n",
       "    }\n",
       "\n",
       "    .dataframe thead th {\n",
       "        text-align: right;\n",
       "    }\n",
       "</style>\n",
       "<table border=\"1\" class=\"dataframe\">\n",
       "  <thead>\n",
       "    <tr style=\"text-align: right;\">\n",
       "      <th></th>\n",
       "      <th>id</th>\n",
       "      <th>yield</th>\n",
       "      <th>unit</th>\n",
       "    </tr>\n",
       "    <tr>\n",
       "      <th>date</th>\n",
       "      <th></th>\n",
       "      <th></th>\n",
       "      <th></th>\n",
       "    </tr>\n",
       "  </thead>\n",
       "  <tbody>\n",
       "    <tr>\n",
       "      <th>2019-01-07</th>\n",
       "      <td>215</td>\n",
       "      <td>0.96</td>\n",
       "      <td>kWh</td>\n",
       "    </tr>\n",
       "    <tr>\n",
       "      <th>2019-01-07</th>\n",
       "      <td>604</td>\n",
       "      <td>0.96</td>\n",
       "      <td>kWh</td>\n",
       "    </tr>\n",
       "    <tr>\n",
       "      <th>2019-01-07</th>\n",
       "      <td>1780</td>\n",
       "      <td>0.96</td>\n",
       "      <td>kWh</td>\n",
       "    </tr>\n",
       "    <tr>\n",
       "      <th>2019-01-07</th>\n",
       "      <td>2801</td>\n",
       "      <td>0.96</td>\n",
       "      <td>kWh</td>\n",
       "    </tr>\n",
       "    <tr>\n",
       "      <th>2019-01-07</th>\n",
       "      <td>3050</td>\n",
       "      <td>0.96</td>\n",
       "      <td>kWh</td>\n",
       "    </tr>\n",
       "  </tbody>\n",
       "</table>\n",
       "</div>"
      ],
      "text/plain": [
       "              id  yield unit\n",
       "date                        \n",
       "2019-01-07   215   0.96  kWh\n",
       "2019-01-07   604   0.96  kWh\n",
       "2019-01-07  1780   0.96  kWh\n",
       "2019-01-07  2801   0.96  kWh\n",
       "2019-01-07  3050   0.96  kWh"
      ]
     },
     "execution_count": 45,
     "metadata": {
      "tags": []
     },
     "output_type": "execute_result"
    }
   ],
   "source": [
    "df.tail()"
   ]
  },
  {
   "cell_type": "code",
   "execution_count": 46,
   "metadata": {
    "colab": {
     "base_uri": "https://localhost:8080/"
    },
    "id": "QYfhR5G0SUkX",
    "outputId": "f537cc52-29da-4d8f-bb77-5da74d78f4f0"
   },
   "outputs": [
    {
     "name": "stdout",
     "output_type": "stream",
     "text": [
      "datetime64[ns]\n",
      "None\n"
     ]
    }
   ],
   "source": [
    "#converting index of datetimes to a DatetimeIndex\n",
    "df.index = pd.to_datetime(df.index, format='%Y/%m/%d')\n",
    "print(df.index.dtype)\n",
    "print(df.index.freq)"
   ]
  },
  {
   "cell_type": "code",
   "execution_count": 47,
   "metadata": {
    "colab": {
     "base_uri": "https://localhost:8080/",
     "height": 303
    },
    "id": "DCfJcgqHSyi5",
    "outputId": "0e279788-138d-4c4a-f404-13fc6ab9b0b5"
   },
   "outputs": [
    {
     "data": {
      "text/plain": [
       "<matplotlib.axes._subplots.AxesSubplot at 0x7f8c06049fd0>"
      ]
     },
     "execution_count": 47,
     "metadata": {
      "tags": []
     },
     "output_type": "execute_result"
    },
    {
     "data": {
      "image/png": "[encoded data removed]",
      "text/plain": [
       "<Figure size 432x288 with 1 Axes>"
      ]
     },
     "metadata": {
      "needs_background": "light",
      "tags": []
     },
     "output_type": "display_data"
    }
   ],
   "source": [
    "# As per this plot, the maximum yield produced by plants is on 5th and 6th january,2019\n",
    "df['yield'].plot()"
   ]
  },
  {
   "cell_type": "code",
   "execution_count": 8,
   "metadata": {
    "colab": {
     "base_uri": "https://localhost:8080/",
     "height": 809
    },
    "id": "X_H4NWyCOG8J",
    "outputId": "e08bfb50-81cb-457e-d4ad-3ff24c08be78"
   },
   "outputs": [
    {
     "data": {
      "image/png": "[encoded data removed]",
      "text/plain": [
       "<Figure size 432x288 with 1 Axes>"
      ]
     },
     "execution_count": 8,
     "metadata": {
      "tags": []
     },
     "output_type": "execute_result"
    },
    {
     "data": {
      "image/png": "[encoded data removed]",
      "text/plain": [
       "<Figure size 432x288 with 1 Axes>"
      ]
     },
     "metadata": {
      "needs_background": "light",
      "tags": []
     },
     "output_type": "display_data"
    },
    {
     "data": {
      "image/png": "[encoded data removed]",
      "text/plain": [
       "<Figure size 432x288 with 1 Axes>"
      ]
     },
     "metadata": {
      "needs_background": "light",
      "tags": []
     },
     "output_type": "display_data"
    }
   ],
   "source": [
    "#plotting autocorrelation and partial correlation\n",
    "from statsmodels.graphics.tsaplots import plot_acf,plot_pacf\n",
    "plot_acf(df)\n",
    "plot_pacf(df)"
   ]
  },
  {
   "cell_type": "markdown",
   "metadata": {
    "id": "sQCf770v1B6O"
   },
   "source": [
    "Data enteries seems to be highly correlated and no trend or seasonality observed, as the data is only for single month and only 1 year, hence showing sharp increase only on 5th and 6th day of the month January"
   ]
  },
  {
   "cell_type": "markdown",
   "metadata": {
    "id": "29gFl4W733Q-"
   },
   "source": [
    "#Normalization of series values\n",
    "In the database,Under row 81154 and 81155, for Plant Id 21432 and 2190, the yield is 444730 and 513040 kWh which is too high if we look over the rest data. So we are normalizing the data to avoid overfitting\n",
    "\n",
    "#y = (x - min) / (max - min)\n"
   ]
  },
  {
   "cell_type": "code",
   "execution_count": 38,
   "metadata": {
    "colab": {
     "base_uri": "https://localhost:8080/"
    },
    "id": "_qZuAuph1cHl",
    "outputId": "1c030bb5-e4b6-448c-fc1f-d8b552ca6bd7"
   },
   "outputs": [
    {
     "name": "stdout",
     "output_type": "stream",
     "text": [
      "[0.   0.   0.   ... 0.96 0.96 0.96]\n",
      "Min: 0.000000, Max: 513040.000000\n",
      "[0.]\n",
      "[0.]\n",
      "[0.]\n",
      "[0.]\n",
      "[0.]\n",
      "[0.]\n",
      "[0.]\n",
      "[0.]\n",
      "[0.]\n",
      "[0.]\n"
     ]
    }
   ],
   "source": [
    "# from sklearn.preprocessing import MinMaxScaler\n",
    "# values = df.values\n",
    "# print(values)\n",
    "# values = values.reshape((len(values), 1))\n",
    "# # train the normalization\n",
    "# scaler = MinMaxScaler(feature_range=(0, 1))\n",
    "# scaler = scaler.fit(values)\n",
    "# print('Min: %f, Max: %f' % (scaler.data_min_, scaler.data_max_))\n",
    "# # normalize the dataset and print the first 5 rows\n",
    "# df_normalized = scaler.transform(values)\n",
    "# for i in range(10):\n",
    "# \tprint(df_normalized[i])\n",
    "# # inverse transform and print the first 5 rows\n",
    "# inversed = scaler.inverse_transform(df_normalized)\n",
    "# for i in range(10):\n",
    "# \tprint(inversed[i])\n",
    " "
   ]
  },
  {
   "cell_type": "markdown",
   "metadata": {
    "id": "1_HK4pyx9-6l"
   },
   "source": [
    "# Standardization of data\n",
    "Another data preprocessing approach could be standardization which used mean and standard deviation\n",
    "\n",
    "#y = (x - mean) / standard_deviation\n"
   ]
  },
  {
   "cell_type": "code",
   "execution_count": 48,
   "metadata": {
    "colab": {
     "base_uri": "https://localhost:8080/"
    },
    "id": "D4GDaTnQ9kLb",
    "outputId": "403c6636-fee2-4778-e8a5-f8fc35623f71"
   },
   "outputs": [
    {
     "name": "stdout",
     "output_type": "stream",
     "text": [
      "[0.   0.   0.   ... 0.96 0.96 0.96]\n",
      "Mean: 15.450305, StandardDeviation: 2147.068429\n",
      "[-0.007196]\n",
      "[-0.007196]\n",
      "[-0.007196]\n",
      "[-0.007196]\n",
      "[-0.007196]\n",
      "[-0.007196]\n",
      "[-0.007196]\n",
      "[-0.007196]\n",
      "[-0.007196]\n",
      "[-0.007196]\n"
     ]
    }
   ],
   "source": [
    "# Standardize the data\n",
    "from pandas import read_csv\n",
    "from sklearn.preprocessing import StandardScaler\n",
    "from math import sqrt\n",
    "# load the dataset and print the first 5 rows\n",
    "values = df['yield'].values\n",
    "print(values)\n",
    "values = values.reshape((len(values), 1))\n",
    "# train the standardization\n",
    "scaler = StandardScaler()\n",
    "scaler = scaler.fit(values)\n",
    "print('Mean: %f, StandardDeviation: %f' % (scaler.mean_, sqrt(scaler.var_)))\n",
    "# standardization the dataset and print the first 5 rows\n",
    "df_norm = scaler.transform(values)\n",
    "for i in range(10):\n",
    "\tprint(df_norm[i])\n",
    "# # inverse transform and print the first 5 rows\n",
    "# inversed = scaler.inverse_transform(df_normalized)\n",
    "# for i in range(10):\n",
    "# \tprint(inversed[i])"
   ]
  },
  {
   "cell_type": "markdown",
   "metadata": {
    "id": "rSfNDpxpBp-i"
   },
   "source": [
    "#Model Building\n",
    "Using Auto ARIMA "
   ]
  },
  {
   "cell_type": "code",
   "execution_count": 49,
   "metadata": {
    "id": "Rzj9D-9QBovk"
   },
   "outputs": [],
   "source": [
    "import warnings\n",
    "warnings.filterwarnings(\"ignore\")"
   ]
  },
  {
   "cell_type": "code",
   "execution_count": 50,
   "metadata": {
    "id": "23YOy-KWDvX8"
   },
   "outputs": [],
   "source": [
    "from statsmodels.tsa.arima_model import ARMA,ARIMA, ARMAResults, ARIMAResults"
   ]
  },
  {
   "cell_type": "code",
   "execution_count": 56,
   "metadata": {
    "colab": {
     "base_uri": "https://localhost:8080/",
     "height": 609
    },
    "id": "Zq9QRIILHx4f",
    "outputId": "f774b87c-25db-4fcf-df0c-1651d174ed0e"
   },
   "outputs": [
    {
     "name": "stdout",
     "output_type": "stream",
     "text": [
      "Collecting pmdarima\n",
      "\u001b[?25l  Downloading https://files.pythonhosted.org/packages/c9/d7/61af1897449638822f97c8b43ef0c2fce2ec68a6cda9a43ebbbdd12b967c/pmdarima-1.8.0-cp36-cp36m-manylinux1_x86_64.whl (1.5MB)\n",
      "\u001b[K     |████████████████████████████████| 1.5MB 5.8MB/s \n",
      "\u001b[?25hRequirement already satisfied: pandas>=0.19 in /usr/local/lib/python3.6/dist-packages (from pmdarima) (1.1.4)\n",
      "Collecting statsmodels!=0.12.0,>=0.11\n",
      "\u001b[?25l  Downloading https://files.pythonhosted.org/packages/be/4c/9e2435ca6645d6bafa2b51bb11f0a365b28934a2ffe9d6e339d67130926d/statsmodels-0.12.1-cp36-cp36m-manylinux1_x86_64.whl (9.5MB)\n",
      "\u001b[K     |████████████████████████████████| 9.5MB 14.8MB/s \n",
      "\u001b[?25hRequirement already satisfied: numpy>=1.17.3 in /usr/local/lib/python3.6/dist-packages (from pmdarima) (1.18.5)\n",
      "Requirement already satisfied: urllib3 in /usr/local/lib/python3.6/dist-packages (from pmdarima) (1.24.3)\n",
      "Requirement already satisfied: scipy>=1.3.2 in /usr/local/lib/python3.6/dist-packages (from pmdarima) (1.4.1)\n",
      "Requirement already satisfied: scikit-learn>=0.22 in /usr/local/lib/python3.6/dist-packages (from pmdarima) (0.22.2.post1)\n",
      "Collecting Cython<0.29.18,>=0.29\n",
      "\u001b[?25l  Downloading https://files.pythonhosted.org/packages/e7/d7/510ddef0248f3e1e91f9cc7e31c0f35f8954d0af92c5c3fd4c853e859ebe/Cython-0.29.17-cp36-cp36m-manylinux1_x86_64.whl (2.1MB)\n",
      "\u001b[K     |████████████████████████████████| 2.1MB 29.1MB/s \n",
      "\u001b[?25hRequirement already satisfied: setuptools!=50.0.0,>=38.6.0 in /usr/local/lib/python3.6/dist-packages (from pmdarima) (50.3.2)\n",
      "Requirement already satisfied: joblib>=0.11 in /usr/local/lib/python3.6/dist-packages (from pmdarima) (0.17.0)\n",
      "Requirement already satisfied: pytz>=2017.2 in /usr/local/lib/python3.6/dist-packages (from pandas>=0.19->pmdarima) (2018.9)\n",
      "Requirement already satisfied: python-dateutil>=2.7.3 in /usr/local/lib/python3.6/dist-packages (from pandas>=0.19->pmdarima) (2.8.1)\n",
      "Requirement already satisfied: patsy>=0.5 in /usr/local/lib/python3.6/dist-packages (from statsmodels!=0.12.0,>=0.11->pmdarima) (0.5.1)\n",
      "Requirement already satisfied: six>=1.5 in /usr/local/lib/python3.6/dist-packages (from python-dateutil>=2.7.3->pandas>=0.19->pmdarima) (1.15.0)\n",
      "Installing collected packages: statsmodels, Cython, pmdarima\n",
      "  Found existing installation: statsmodels 0.10.2\n",
      "    Uninstalling statsmodels-0.10.2:\n",
      "      Successfully uninstalled statsmodels-0.10.2\n",
      "  Found existing installation: Cython 0.29.21\n",
      "    Uninstalling Cython-0.29.21:\n",
      "      Successfully uninstalled Cython-0.29.21\n",
      "Successfully installed Cython-0.29.17 pmdarima-1.8.0 statsmodels-0.12.1\n"
     ]
    },
    {
     "data": {
      "application/vnd.colab-display-data+json": {
       "pip_warning": {
        "packages": [
         "statsmodels"
        ]
       }
      }
     },
     "metadata": {
      "tags": []
     },
     "output_type": "display_data"
    }
   ],
   "source": [
    "pip install pmdarima"
   ]
  },
  {
   "cell_type": "code",
   "execution_count": 51,
   "metadata": {
    "id": "NaX93lioGi55"
   },
   "outputs": [],
   "source": [
    "from pmdarima import auto_arima # for determining ARIMA orders"
   ]
  },
  {
   "cell_type": "code",
   "execution_count": 52,
   "metadata": {
    "colab": {
     "base_uri": "https://localhost:8080/",
     "height": 420
    },
    "id": "iHd_2TaeIw8r",
    "outputId": "3d38ff4c-d7a3-4adc-f74c-6d3268538695"
   },
   "outputs": [
    {
     "data": {
      "text/html": [
       "<table class=\"simpletable\">\n",
       "<caption>SARIMAX Results</caption>\n",
       "<tr>\n",
       "  <th>Dep. Variable:</th>           <td>y</td>        <th>  No. Observations:  </th>   <td>100000</td>   \n",
       "</tr>\n",
       "<tr>\n",
       "  <th>Model:</th>           <td>SARIMAX(0, 0, 1)</td> <th>  Log Likelihood     </th> <td>-881059.886</td>\n",
       "</tr>\n",
       "<tr>\n",
       "  <th>Date:</th>            <td>Thu, 03 Dec 2020</td> <th>  AIC                </th> <td>1762125.772</td>\n",
       "</tr>\n",
       "<tr>\n",
       "  <th>Time:</th>                <td>15:24:30</td>     <th>  BIC                </th> <td>1762154.311</td>\n",
       "</tr>\n",
       "<tr>\n",
       "  <th>Sample:</th>                  <td>0</td>        <th>  HQIC               </th> <td>1762134.433</td>\n",
       "</tr>\n",
       "<tr>\n",
       "  <th></th>                     <td> - 100000</td>    <th>                     </th>      <td> </td>     \n",
       "</tr>\n",
       "<tr>\n",
       "  <th>Covariance Type:</th>        <td>opg</td>       <th>                     </th>      <td> </td>     \n",
       "</tr>\n",
       "</table>\n",
       "<table class=\"simpletable\">\n",
       "<tr>\n",
       "      <td></td>         <th>coef</th>     <th>std err</th>      <th>z</th>      <th>P>|z|</th>  <th>[0.025</th>    <th>0.975]</th>  \n",
       "</tr>\n",
       "<tr>\n",
       "  <th>intercept</th> <td>    8.9996</td> <td>   19.751</td> <td>    0.456</td> <td> 0.649</td> <td>  -29.712</td> <td>   47.711</td>\n",
       "</tr>\n",
       "<tr>\n",
       "  <th>ma.L1</th>     <td>    0.8667</td> <td> 3.84e-05</td> <td> 2.26e+04</td> <td> 0.000</td> <td>    0.867</td> <td>    0.867</td>\n",
       "</tr>\n",
       "<tr>\n",
       "  <th>sigma2</th>    <td> 2.632e+06</td> <td>  142.552</td> <td> 1.85e+04</td> <td> 0.000</td> <td> 2.63e+06</td> <td> 2.63e+06</td>\n",
       "</tr>\n",
       "</table>\n",
       "<table class=\"simpletable\">\n",
       "<tr>\n",
       "  <th>Ljung-Box (L1) (Q):</th>       <td>0.00</td>   <th>  Jarque-Bera (JB):  </th> <td>13681690709244.91</td>\n",
       "</tr>\n",
       "<tr>\n",
       "  <th>Prob(Q):</th>                  <td>0.96</td>   <th>  Prob(JB):          </th>       <td>0.00</td>       \n",
       "</tr>\n",
       "<tr>\n",
       "  <th>Heteroskedasticity (H):</th> <td>65565.88</td> <th>  Skew:              </th>      <td>208.82</td>      \n",
       "</tr>\n",
       "<tr>\n",
       "  <th>Prob(H) (two-sided):</th>      <td>0.00</td>   <th>  Kurtosis:          </th>     <td>57304.23</td>     \n",
       "</tr>\n",
       "</table><br/><br/>Warnings:<br/>[1] Covariance matrix calculated using the outer product of gradients (complex-step)."
      ],
      "text/plain": [
       "<class 'statsmodels.iolib.summary.Summary'>\n",
       "\"\"\"\n",
       "                               SARIMAX Results                                \n",
       "==============================================================================\n",
       "Dep. Variable:                      y   No. Observations:               100000\n",
       "Model:               SARIMAX(0, 0, 1)   Log Likelihood             -881059.886\n",
       "Date:                Thu, 03 Dec 2020   AIC                        1762125.772\n",
       "Time:                        15:24:30   BIC                        1762154.311\n",
       "Sample:                             0   HQIC                       1762134.433\n",
       "                             - 100000                                         \n",
       "Covariance Type:                  opg                                         \n",
       "==============================================================================\n",
       "                 coef    std err          z      P>|z|      [0.025      0.975]\n",
       "------------------------------------------------------------------------------\n",
       "intercept      8.9996     19.751      0.456      0.649     -29.712      47.711\n",
       "ma.L1          0.8667   3.84e-05   2.26e+04      0.000       0.867       0.867\n",
       "sigma2      2.632e+06    142.552   1.85e+04      0.000    2.63e+06    2.63e+06\n",
       "===================================================================================\n",
       "Ljung-Box (L1) (Q):                   0.00   Jarque-Bera (JB):    13681690709244.91\n",
       "Prob(Q):                              0.96   Prob(JB):                         0.00\n",
       "Heteroskedasticity (H):           65565.88   Skew:                           208.82\n",
       "Prob(H) (two-sided):                  0.00   Kurtosis:                     57304.23\n",
       "===================================================================================\n",
       "\n",
       "Warnings:\n",
       "[1] Covariance matrix calculated using the outer product of gradients (complex-step).\n",
       "\"\"\""
      ]
     },
     "execution_count": 52,
     "metadata": {
      "tags": []
     },
     "output_type": "execute_result"
    }
   ],
   "source": [
    "auto_arima(df['yield'],seasonal=False).summary()"
   ]
  },
  {
   "cell_type": "markdown",
   "metadata": {
    "id": "KZd453b_QcIA"
   },
   "source": [
    "SARIMAX MODEL"
   ]
  },
  {
   "cell_type": "code",
   "execution_count": 57,
   "metadata": {
    "colab": {
     "base_uri": "https://localhost:8080/"
    },
    "id": "Rx7vxeBjOnFF",
    "outputId": "e6f4e645-3052-4ba7-ee1b-fa13482b24f3"
   },
   "outputs": [
    {
     "name": "stdout",
     "output_type": "stream",
     "text": [
      "Test RMSE: 1622.404\n"
     ]
    }
   ],
   "source": [
    "from sklearn.metrics import mean_squared_error\n",
    "from statsmodels.tsa.statespace.sarimax import SARIMAX\n",
    "model = SARIMAX(df['yield'].values,order=(0,0,1))\n",
    "model_fit= model.fit()\n",
    "rmse = sqrt(mean_squared_error(df['yield'].values,model_fit.fittedvalues)) \n",
    "print('Test RMSE: %.3f' % rmse)"
   ]
  },
  {
   "cell_type": "code",
   "execution_count": 58,
   "metadata": {
    "colab": {
     "base_uri": "https://localhost:8080/"
    },
    "id": "no20HPpvQkDs",
    "outputId": "b808a377-2f69-4d02-ff60-76b629b876fc"
   },
   "outputs": [
    {
     "name": "stdout",
     "output_type": "stream",
     "text": [
      "                               SARIMAX Results                                \n",
      "==============================================================================\n",
      "Dep. Variable:                      y   No. Observations:               100000\n",
      "Model:               SARIMAX(0, 0, 1)   Log Likelihood             -881060.960\n",
      "Date:                Thu, 03 Dec 2020   AIC                        1762125.921\n",
      "Time:                        15:40:10   BIC                        1762144.947\n",
      "Sample:                             0   HQIC                       1762131.695\n",
      "                             - 100000                                         \n",
      "Covariance Type:                  opg                                         \n",
      "==============================================================================\n",
      "                 coef    std err          z      P>|z|      [0.025      0.975]\n",
      "------------------------------------------------------------------------------\n",
      "ma.L1          0.8667    3.8e-05   2.28e+04      0.000       0.867       0.867\n",
      "sigma2      2.632e+06     69.793   3.77e+04      0.000    2.63e+06    2.63e+06\n",
      "===================================================================================\n",
      "Ljung-Box (L1) (Q):                   0.00   Jarque-Bera (JB):    13681681004762.82\n",
      "Prob(Q):                              0.96   Prob(JB):                         0.00\n",
      "Heteroskedasticity (H):           56572.78   Skew:                           208.82\n",
      "Prob(H) (two-sided):                  0.00   Kurtosis:                     57304.21\n",
      "===================================================================================\n",
      "\n",
      "Warnings:\n",
      "[1] Covariance matrix calculated using the outer product of gradients (complex-step).\n"
     ]
    }
   ],
   "source": [
    "print(model_fit.summary())"
   ]
  },
  {
   "cell_type": "code",
   "execution_count": 61,
   "metadata": {
    "colab": {
     "base_uri": "https://localhost:8080/",
     "height": 265
    },
    "id": "OBJCBm83QtzA",
    "outputId": "2ea992ff-5e45-44c4-f336-256b6cc3946a"
   },
   "outputs": [
    {
     "data": {
      "image/png": "[encoded data removed]",
      "text/plain": [
       "<Figure size 432x288 with 1 Axes>"
      ]
     },
     "metadata": {
      "needs_background": "light",
      "tags": []
     },
     "output_type": "display_data"
    }
   ],
   "source": [
    "# plot results\n",
    "plt.plot(df['yield'].values, color='green')\n",
    "plt.plot(model_fit.fittedvalues, color='blue')\n",
    "plt.show()"
   ]
  }
 ],
 "metadata": {
  "colab": {
   "collapsed_sections": [],
   "name": "Time Series",
   "provenance": [],
   "toc_visible": true
  },
  "kernelspec": {
   "display_name": "Python 3",
   "language": "python",
   "name": "python3"
  },
  "language_info": {
   "codemirror_mode": {
    "name": "ipython",
    "version": 3
   },
   "file_extension": ".py",
   "mimetype": "text/x-python",
   "name": "python",
   "nbconvert_exporter": "python",
   "pygments_lexer": "ipython3",
   "version": "3.7.9"
  }
 },
 "nbformat": 4,
 "nbformat_minor": 1
}
