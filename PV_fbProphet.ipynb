{
 "cells": [
  {
   "cell_type": "code",
   "execution_count": 2,
   "metadata": {
    "id": "5Jb8gCmDGXba"
   },
   "outputs": [],
   "source": [
    "import pandas as pd\n",
    "import numpy as np\n",
    "from fbprophet import Prophet\n",
    "import matplotlib.pyplot as plt"
   ]
  },
  {
   "cell_type": "code",
   "execution_count": 3,
   "metadata": {
    "id": "5e-h-lMWGcs0"
   },
   "outputs": [],
   "source": [
    "df=pd.read_csv('yield.csv', header=0, sep=';', index_col=0, squeeze=True, parse_dates=True)"
   ]
  },
  {
   "cell_type": "code",
   "execution_count": 4,
   "metadata": {
    "id": "p3kXUzY6HsRq"
   },
   "outputs": [],
   "source": [
    "df = df.to_frame().reset_index()"
   ]
  },
  {
   "cell_type": "code",
   "execution_count": 5,
   "metadata": {
    "id": "TfOKxK9EIleZ"
   },
   "outputs": [],
   "source": [
    "df = df.rename({\"date\":\"ds\",\"yield\":\"y\"}, axis='columns') "
   ]
  },
  {
   "cell_type": "code",
   "execution_count": 6,
   "metadata": {
    "id": "wggKdXLoWTsb"
   },
   "outputs": [],
   "source": [
    "df['ds'] = pd.to_datetime(df['ds']) #convert date to datetime object"
   ]
  },
  {
   "cell_type": "code",
   "execution_count": 8,
   "metadata": {
    "colab": {
     "base_uri": "https://localhost:8080/"
    },
    "id": "QsezUEmZWzVR",
    "outputId": "53ace776-af17-48c8-dee7-47798bfc2c99"
   },
   "outputs": [
    {
     "name": "stdout",
     "output_type": "stream",
     "text": [
      "<class 'pandas.core.frame.DataFrame'>\n",
      "RangeIndex: 51894 entries, 0 to 51893\n",
      "Data columns (total 2 columns):\n",
      " #   Column  Non-Null Count  Dtype         \n",
      "---  ------  --------------  -----         \n",
      " 0   ds      51894 non-null  datetime64[ns]\n",
      " 1   y       51894 non-null  int64         \n",
      "dtypes: datetime64[ns](1), int64(1)\n",
      "memory usage: 811.0 KB\n",
      "None\n"
     ]
    }
   ],
   "source": [
    "print(df.info())"
   ]
  },
  {
   "cell_type": "code",
   "execution_count": 12,
   "metadata": {
    "colab": {
     "base_uri": "https://localhost:8080/"
    },
    "id": "rS9480OLIa77",
    "outputId": "a2aa707b-3192-4792-fdfe-f73b4bc3a65f"
   },
   "outputs": [
    {
     "name": "stderr",
     "output_type": "stream",
     "text": [
      "INFO:fbprophet:Disabling yearly seasonality. Run prophet with yearly_seasonality=True to override this.\n"
     ]
    }
   ],
   "source": [
    "#create the model\n",
    "m = Prophet(daily_seasonality=True).fit(df)\n",
    "#placeholder to hold our future predictions\n",
    "future = m.make_future_dataframe(periods=365, freq='D' )\n",
    "# fcst = m.predict(future)\n",
    "# fig = m.plot(fcst)"
   ]
  },
  {
   "cell_type": "code",
   "execution_count": 14,
   "metadata": {
    "colab": {
     "base_uri": "https://localhost:8080/",
     "height": 202
    },
    "id": "fBC--hBOYyqm",
    "outputId": "fda847f6-e466-49cd-dcb7-aced091a7435"
   },
   "outputs": [
    {
     "data": {
      "text/html": [
       "<div>\n",
       "<style scoped>\n",
       "    .dataframe tbody tr th:only-of-type {\n",
       "        vertical-align: middle;\n",
       "    }\n",
       "\n",
       "    .dataframe tbody tr th {\n",
       "        vertical-align: top;\n",
       "    }\n",
       "\n",
       "    .dataframe thead th {\n",
       "        text-align: right;\n",
       "    }\n",
       "</style>\n",
       "<table border=\"1\" class=\"dataframe\">\n",
       "  <thead>\n",
       "    <tr style=\"text-align: right;\">\n",
       "      <th></th>\n",
       "      <th>ds</th>\n",
       "    </tr>\n",
       "  </thead>\n",
       "  <tbody>\n",
       "    <tr>\n",
       "      <th>0</th>\n",
       "      <td>2019-09-12</td>\n",
       "    </tr>\n",
       "    <tr>\n",
       "      <th>1</th>\n",
       "      <td>2019-10-12</td>\n",
       "    </tr>\n",
       "    <tr>\n",
       "      <th>2</th>\n",
       "      <td>2019-11-12</td>\n",
       "    </tr>\n",
       "    <tr>\n",
       "      <th>3</th>\n",
       "      <td>2019-12-12</td>\n",
       "    </tr>\n",
       "    <tr>\n",
       "      <th>4</th>\n",
       "      <td>2019-12-13</td>\n",
       "    </tr>\n",
       "  </tbody>\n",
       "</table>\n",
       "</div>"
      ],
      "text/plain": [
       "          ds\n",
       "0 2019-09-12\n",
       "1 2019-10-12\n",
       "2 2019-11-12\n",
       "3 2019-12-12\n",
       "4 2019-12-13"
      ]
     },
     "execution_count": 14,
     "metadata": {
      "tags": []
     },
     "output_type": "execute_result"
    }
   ],
   "source": [
    "future.head()"
   ]
  },
  {
   "cell_type": "code",
   "execution_count": 15,
   "metadata": {
    "colab": {
     "base_uri": "https://localhost:8080/",
     "height": 202
    },
    "id": "hI6HbVKJZUbe",
    "outputId": "1dde252d-243c-4e4c-be52-d1d9d8c355b6"
   },
   "outputs": [
    {
     "data": {
      "text/html": [
       "<div>\n",
       "<style scoped>\n",
       "    .dataframe tbody tr th:only-of-type {\n",
       "        vertical-align: middle;\n",
       "    }\n",
       "\n",
       "    .dataframe tbody tr th {\n",
       "        vertical-align: top;\n",
       "    }\n",
       "\n",
       "    .dataframe thead th {\n",
       "        text-align: right;\n",
       "    }\n",
       "</style>\n",
       "<table border=\"1\" class=\"dataframe\">\n",
       "  <thead>\n",
       "    <tr style=\"text-align: right;\">\n",
       "      <th></th>\n",
       "      <th>ds</th>\n",
       "    </tr>\n",
       "  </thead>\n",
       "  <tbody>\n",
       "    <tr>\n",
       "      <th>726</th>\n",
       "      <td>2021-12-07</td>\n",
       "    </tr>\n",
       "    <tr>\n",
       "      <th>727</th>\n",
       "      <td>2021-12-08</td>\n",
       "    </tr>\n",
       "    <tr>\n",
       "      <th>728</th>\n",
       "      <td>2021-12-09</td>\n",
       "    </tr>\n",
       "    <tr>\n",
       "      <th>729</th>\n",
       "      <td>2021-12-10</td>\n",
       "    </tr>\n",
       "    <tr>\n",
       "      <th>730</th>\n",
       "      <td>2021-12-11</td>\n",
       "    </tr>\n",
       "  </tbody>\n",
       "</table>\n",
       "</div>"
      ],
      "text/plain": [
       "            ds\n",
       "726 2021-12-07\n",
       "727 2021-12-08\n",
       "728 2021-12-09\n",
       "729 2021-12-10\n",
       "730 2021-12-11"
      ]
     },
     "execution_count": 15,
     "metadata": {
      "tags": []
     },
     "output_type": "execute_result"
    }
   ],
   "source": [
    "future.tail()"
   ]
  },
  {
   "cell_type": "markdown",
   "metadata": {
    "id": "vhS_zlOjh5-V"
   },
   "source": [
    "Reference: https://nextjournal.com/eric-brown/forecasting-with-prophet-part-4"
   ]
  },
  {
   "cell_type": "code",
   "execution_count": 16,
   "metadata": {
    "id": "uKbM0ArWZpsd"
   },
   "outputs": [],
   "source": [
    "#predict and fill in the future\n",
    "forecast= m.predict(future)"
   ]
  },
  {
   "cell_type": "code",
   "execution_count": 18,
   "metadata": {
    "colab": {
     "base_uri": "https://localhost:8080/",
     "height": 309
    },
    "id": "Wz3Prvp4aLqg",
    "outputId": "de991df7-c7d7-42fb-e851-fa9acebcd477"
   },
   "outputs": [
    {
     "data": {
      "text/html": [
       "<div>\n",
       "<style scoped>\n",
       "    .dataframe tbody tr th:only-of-type {\n",
       "        vertical-align: middle;\n",
       "    }\n",
       "\n",
       "    .dataframe tbody tr th {\n",
       "        vertical-align: top;\n",
       "    }\n",
       "\n",
       "    .dataframe thead th {\n",
       "        text-align: right;\n",
       "    }\n",
       "</style>\n",
       "<table border=\"1\" class=\"dataframe\">\n",
       "  <thead>\n",
       "    <tr style=\"text-align: right;\">\n",
       "      <th></th>\n",
       "      <th>ds</th>\n",
       "      <th>trend</th>\n",
       "      <th>yhat_lower</th>\n",
       "      <th>yhat_upper</th>\n",
       "      <th>trend_lower</th>\n",
       "      <th>trend_upper</th>\n",
       "      <th>additive_terms</th>\n",
       "      <th>additive_terms_lower</th>\n",
       "      <th>additive_terms_upper</th>\n",
       "      <th>daily</th>\n",
       "      <th>daily_lower</th>\n",
       "      <th>daily_upper</th>\n",
       "      <th>weekly</th>\n",
       "      <th>weekly_lower</th>\n",
       "      <th>weekly_upper</th>\n",
       "      <th>multiplicative_terms</th>\n",
       "      <th>multiplicative_terms_lower</th>\n",
       "      <th>multiplicative_terms_upper</th>\n",
       "      <th>yhat</th>\n",
       "    </tr>\n",
       "  </thead>\n",
       "  <tbody>\n",
       "    <tr>\n",
       "      <th>0</th>\n",
       "      <td>2019-09-12</td>\n",
       "      <td>3621.290224</td>\n",
       "      <td>-1712.516937</td>\n",
       "      <td>3290.184213</td>\n",
       "      <td>3621.290224</td>\n",
       "      <td>3621.290224</td>\n",
       "      <td>-2792.348521</td>\n",
       "      <td>-2792.348521</td>\n",
       "      <td>-2792.348521</td>\n",
       "      <td>-2708.423815</td>\n",
       "      <td>-2708.423815</td>\n",
       "      <td>-2708.423815</td>\n",
       "      <td>-83.924705</td>\n",
       "      <td>-83.924705</td>\n",
       "      <td>-83.924705</td>\n",
       "      <td>0.0</td>\n",
       "      <td>0.0</td>\n",
       "      <td>0.0</td>\n",
       "      <td>828.941703</td>\n",
       "    </tr>\n",
       "    <tr>\n",
       "      <th>1</th>\n",
       "      <td>2019-10-12</td>\n",
       "      <td>3782.812157</td>\n",
       "      <td>-1432.606570</td>\n",
       "      <td>3580.095468</td>\n",
       "      <td>3782.812157</td>\n",
       "      <td>3782.812157</td>\n",
       "      <td>-2695.818317</td>\n",
       "      <td>-2695.818317</td>\n",
       "      <td>-2695.818317</td>\n",
       "      <td>-2708.423815</td>\n",
       "      <td>-2708.423815</td>\n",
       "      <td>-2708.423815</td>\n",
       "      <td>12.605499</td>\n",
       "      <td>12.605499</td>\n",
       "      <td>12.605499</td>\n",
       "      <td>0.0</td>\n",
       "      <td>0.0</td>\n",
       "      <td>0.0</td>\n",
       "      <td>1086.993840</td>\n",
       "    </tr>\n",
       "    <tr>\n",
       "      <th>2</th>\n",
       "      <td>2019-11-12</td>\n",
       "      <td>3949.718154</td>\n",
       "      <td>-1140.253373</td>\n",
       "      <td>3681.933961</td>\n",
       "      <td>3949.718154</td>\n",
       "      <td>3949.718154</td>\n",
       "      <td>-2673.306129</td>\n",
       "      <td>-2673.306129</td>\n",
       "      <td>-2673.306129</td>\n",
       "      <td>-2708.423815</td>\n",
       "      <td>-2708.423815</td>\n",
       "      <td>-2708.423815</td>\n",
       "      <td>35.117687</td>\n",
       "      <td>35.117687</td>\n",
       "      <td>35.117687</td>\n",
       "      <td>0.0</td>\n",
       "      <td>0.0</td>\n",
       "      <td>0.0</td>\n",
       "      <td>1276.412026</td>\n",
       "    </tr>\n",
       "    <tr>\n",
       "      <th>3</th>\n",
       "      <td>2019-12-12</td>\n",
       "      <td>4111.240087</td>\n",
       "      <td>-1053.800163</td>\n",
       "      <td>3786.906674</td>\n",
       "      <td>4111.240087</td>\n",
       "      <td>4111.240087</td>\n",
       "      <td>-2792.348521</td>\n",
       "      <td>-2792.348521</td>\n",
       "      <td>-2792.348521</td>\n",
       "      <td>-2708.423815</td>\n",
       "      <td>-2708.423815</td>\n",
       "      <td>-2708.423815</td>\n",
       "      <td>-83.924705</td>\n",
       "      <td>-83.924705</td>\n",
       "      <td>-83.924705</td>\n",
       "      <td>0.0</td>\n",
       "      <td>0.0</td>\n",
       "      <td>0.0</td>\n",
       "      <td>1318.891567</td>\n",
       "    </tr>\n",
       "    <tr>\n",
       "      <th>4</th>\n",
       "      <td>2019-12-13</td>\n",
       "      <td>4116.624152</td>\n",
       "      <td>-1162.344221</td>\n",
       "      <td>3837.036891</td>\n",
       "      <td>4116.624152</td>\n",
       "      <td>4116.624152</td>\n",
       "      <td>-2813.502934</td>\n",
       "      <td>-2813.502934</td>\n",
       "      <td>-2813.502934</td>\n",
       "      <td>-2708.423815</td>\n",
       "      <td>-2708.423815</td>\n",
       "      <td>-2708.423815</td>\n",
       "      <td>-105.079118</td>\n",
       "      <td>-105.079118</td>\n",
       "      <td>-105.079118</td>\n",
       "      <td>0.0</td>\n",
       "      <td>0.0</td>\n",
       "      <td>0.0</td>\n",
       "      <td>1303.121218</td>\n",
       "    </tr>\n",
       "  </tbody>\n",
       "</table>\n",
       "</div>"
      ],
      "text/plain": [
       "          ds        trend  ...  multiplicative_terms_upper         yhat\n",
       "0 2019-09-12  3621.290224  ...                         0.0   828.941703\n",
       "1 2019-10-12  3782.812157  ...                         0.0  1086.993840\n",
       "2 2019-11-12  3949.718154  ...                         0.0  1276.412026\n",
       "3 2019-12-12  4111.240087  ...                         0.0  1318.891567\n",
       "4 2019-12-13  4116.624152  ...                         0.0  1303.121218\n",
       "\n",
       "[5 rows x 19 columns]"
      ]
     },
     "execution_count": 18,
     "metadata": {
      "tags": []
     },
     "output_type": "execute_result"
    }
   ],
   "source": [
    "forecast.head()"
   ]
  },
  {
   "cell_type": "code",
   "execution_count": 19,
   "metadata": {
    "colab": {
     "base_uri": "https://localhost:8080/"
    },
    "id": "x2y-JfvwaMMu",
    "outputId": "afb05459-3fb3-4007-fc37-625f52d221f8"
   },
   "outputs": [
    {
     "data": {
      "text/plain": [
       "Index(['ds', 'trend', 'yhat_lower', 'yhat_upper', 'trend_lower', 'trend_upper',\n",
       "       'additive_terms', 'additive_terms_lower', 'additive_terms_upper',\n",
       "       'daily', 'daily_lower', 'daily_upper', 'weekly', 'weekly_lower',\n",
       "       'weekly_upper', 'multiplicative_terms', 'multiplicative_terms_lower',\n",
       "       'multiplicative_terms_upper', 'yhat'],\n",
       "      dtype='object')"
      ]
     },
     "execution_count": 19,
     "metadata": {
      "tags": []
     },
     "output_type": "execute_result"
    }
   ],
   "source": [
    "forecast.columns"
   ]
  },
  {
   "cell_type": "code",
   "execution_count": 21,
   "metadata": {
    "colab": {
     "base_uri": "https://localhost:8080/",
     "height": 662
    },
    "id": "c4deKnwaaqoR",
    "outputId": "b92866af-a843-4275-b6ab-8bef551384e5"
   },
   "outputs": [
    {
     "data": {
      "text/html": [
       "<div>\n",
       "<style scoped>\n",
       "    .dataframe tbody tr th:only-of-type {\n",
       "        vertical-align: middle;\n",
       "    }\n",
       "\n",
       "    .dataframe tbody tr th {\n",
       "        vertical-align: top;\n",
       "    }\n",
       "\n",
       "    .dataframe thead th {\n",
       "        text-align: right;\n",
       "    }\n",
       "</style>\n",
       "<table border=\"1\" class=\"dataframe\">\n",
       "  <thead>\n",
       "    <tr style=\"text-align: right;\">\n",
       "      <th></th>\n",
       "      <th>ds</th>\n",
       "      <th>yhat_lower</th>\n",
       "      <th>yhat_upper</th>\n",
       "      <th>yhat</th>\n",
       "    </tr>\n",
       "  </thead>\n",
       "  <tbody>\n",
       "    <tr>\n",
       "      <th>711</th>\n",
       "      <td>2021-11-22</td>\n",
       "      <td>-3839.661407</td>\n",
       "      <td>6663.495181</td>\n",
       "      <td>1701.505267</td>\n",
       "    </tr>\n",
       "    <tr>\n",
       "      <th>712</th>\n",
       "      <td>2021-11-23</td>\n",
       "      <td>-3743.014871</td>\n",
       "      <td>6959.483746</td>\n",
       "      <td>1610.719281</td>\n",
       "    </tr>\n",
       "    <tr>\n",
       "      <th>713</th>\n",
       "      <td>2021-11-24</td>\n",
       "      <td>-4076.325907</td>\n",
       "      <td>6682.196277</td>\n",
       "      <td>1626.366686</td>\n",
       "    </tr>\n",
       "    <tr>\n",
       "      <th>714</th>\n",
       "      <td>2021-11-25</td>\n",
       "      <td>-4071.599459</td>\n",
       "      <td>6607.122623</td>\n",
       "      <td>1490.642155</td>\n",
       "    </tr>\n",
       "    <tr>\n",
       "      <th>715</th>\n",
       "      <td>2021-11-26</td>\n",
       "      <td>-4082.645534</td>\n",
       "      <td>6959.041676</td>\n",
       "      <td>1468.970374</td>\n",
       "    </tr>\n",
       "    <tr>\n",
       "      <th>716</th>\n",
       "      <td>2021-11-27</td>\n",
       "      <td>-4038.678499</td>\n",
       "      <td>7064.419354</td>\n",
       "      <td>1586.137624</td>\n",
       "    </tr>\n",
       "    <tr>\n",
       "      <th>717</th>\n",
       "      <td>2021-11-28</td>\n",
       "      <td>-3791.693392</td>\n",
       "      <td>6747.002390</td>\n",
       "      <td>1537.626633</td>\n",
       "    </tr>\n",
       "    <tr>\n",
       "      <th>718</th>\n",
       "      <td>2021-11-29</td>\n",
       "      <td>-3660.273825</td>\n",
       "      <td>7114.637192</td>\n",
       "      <td>1697.883696</td>\n",
       "    </tr>\n",
       "    <tr>\n",
       "      <th>719</th>\n",
       "      <td>2021-11-30</td>\n",
       "      <td>-4126.976386</td>\n",
       "      <td>6721.223179</td>\n",
       "      <td>1607.097710</td>\n",
       "    </tr>\n",
       "    <tr>\n",
       "      <th>720</th>\n",
       "      <td>2021-12-01</td>\n",
       "      <td>-3956.351359</td>\n",
       "      <td>6590.720476</td>\n",
       "      <td>1622.745115</td>\n",
       "    </tr>\n",
       "    <tr>\n",
       "      <th>721</th>\n",
       "      <td>2021-12-02</td>\n",
       "      <td>-4017.739462</td>\n",
       "      <td>6916.606328</td>\n",
       "      <td>1487.020584</td>\n",
       "    </tr>\n",
       "    <tr>\n",
       "      <th>722</th>\n",
       "      <td>2021-12-03</td>\n",
       "      <td>-4151.928213</td>\n",
       "      <td>6802.478208</td>\n",
       "      <td>1465.348803</td>\n",
       "    </tr>\n",
       "    <tr>\n",
       "      <th>723</th>\n",
       "      <td>2021-12-04</td>\n",
       "      <td>-4200.887651</td>\n",
       "      <td>6814.305628</td>\n",
       "      <td>1582.516053</td>\n",
       "    </tr>\n",
       "    <tr>\n",
       "      <th>724</th>\n",
       "      <td>2021-12-05</td>\n",
       "      <td>-4002.460826</td>\n",
       "      <td>7349.753651</td>\n",
       "      <td>1534.005062</td>\n",
       "    </tr>\n",
       "    <tr>\n",
       "      <th>725</th>\n",
       "      <td>2021-12-06</td>\n",
       "      <td>-3857.241298</td>\n",
       "      <td>7103.651637</td>\n",
       "      <td>1694.262125</td>\n",
       "    </tr>\n",
       "    <tr>\n",
       "      <th>726</th>\n",
       "      <td>2021-12-07</td>\n",
       "      <td>-3796.638880</td>\n",
       "      <td>7055.107496</td>\n",
       "      <td>1603.476139</td>\n",
       "    </tr>\n",
       "    <tr>\n",
       "      <th>727</th>\n",
       "      <td>2021-12-08</td>\n",
       "      <td>-4191.994719</td>\n",
       "      <td>7068.199698</td>\n",
       "      <td>1619.123543</td>\n",
       "    </tr>\n",
       "    <tr>\n",
       "      <th>728</th>\n",
       "      <td>2021-12-09</td>\n",
       "      <td>-4205.602265</td>\n",
       "      <td>6792.953329</td>\n",
       "      <td>1483.399012</td>\n",
       "    </tr>\n",
       "    <tr>\n",
       "      <th>729</th>\n",
       "      <td>2021-12-10</td>\n",
       "      <td>-4060.906504</td>\n",
       "      <td>6963.456146</td>\n",
       "      <td>1461.727232</td>\n",
       "    </tr>\n",
       "    <tr>\n",
       "      <th>730</th>\n",
       "      <td>2021-12-11</td>\n",
       "      <td>-4058.662153</td>\n",
       "      <td>7206.838119</td>\n",
       "      <td>1578.894482</td>\n",
       "    </tr>\n",
       "  </tbody>\n",
       "</table>\n",
       "</div>"
      ],
      "text/plain": [
       "            ds   yhat_lower   yhat_upper         yhat\n",
       "711 2021-11-22 -3839.661407  6663.495181  1701.505267\n",
       "712 2021-11-23 -3743.014871  6959.483746  1610.719281\n",
       "713 2021-11-24 -4076.325907  6682.196277  1626.366686\n",
       "714 2021-11-25 -4071.599459  6607.122623  1490.642155\n",
       "715 2021-11-26 -4082.645534  6959.041676  1468.970374\n",
       "716 2021-11-27 -4038.678499  7064.419354  1586.137624\n",
       "717 2021-11-28 -3791.693392  6747.002390  1537.626633\n",
       "718 2021-11-29 -3660.273825  7114.637192  1697.883696\n",
       "719 2021-11-30 -4126.976386  6721.223179  1607.097710\n",
       "720 2021-12-01 -3956.351359  6590.720476  1622.745115\n",
       "721 2021-12-02 -4017.739462  6916.606328  1487.020584\n",
       "722 2021-12-03 -4151.928213  6802.478208  1465.348803\n",
       "723 2021-12-04 -4200.887651  6814.305628  1582.516053\n",
       "724 2021-12-05 -4002.460826  7349.753651  1534.005062\n",
       "725 2021-12-06 -3857.241298  7103.651637  1694.262125\n",
       "726 2021-12-07 -3796.638880  7055.107496  1603.476139\n",
       "727 2021-12-08 -4191.994719  7068.199698  1619.123543\n",
       "728 2021-12-09 -4205.602265  6792.953329  1483.399012\n",
       "729 2021-12-10 -4060.906504  6963.456146  1461.727232\n",
       "730 2021-12-11 -4058.662153  7206.838119  1578.894482"
      ]
     },
     "execution_count": 21,
     "metadata": {
      "tags": []
     },
     "output_type": "execute_result"
    }
   ],
   "source": [
    "forecast[['ds','yhat_lower', 'yhat_upper', 'yhat' ]].tail(20)"
   ]
  },
  {
   "cell_type": "code",
   "execution_count": 31,
   "metadata": {
    "colab": {
     "base_uri": "https://localhost:8080/",
     "height": 459
    },
    "id": "mgY7IJxfa-lS",
    "outputId": "eb46eb06-8524-4a5b-fd2e-ba6a6247b461"
   },
   "outputs": [
    {
     "data": {
      "text/plain": [
       "(737272.95, 738176.05)"
      ]
     },
     "execution_count": 31,
     "metadata": {
      "tags": []
     },
     "output_type": "execute_result"
    },
    {
     "data": {
      "image/png": "[encoded data removed]",
      "text/plain": [
       "<Figure size 720x432 with 1 Axes>"
      ]
     },
     "metadata": {
      "tags": []
     },
     "output_type": "display_data"
    }
   ],
   "source": [
    "import matplotlib.pyplot as plt\n",
    "m.plot(forecast);\n",
    "plt.xlim()"
   ]
  },
  {
   "cell_type": "code",
   "execution_count": 33,
   "metadata": {
    "colab": {
     "base_uri": "https://localhost:8080/",
     "height": 295
    },
    "id": "oGfDd5vsbMxM",
    "outputId": "be5f9706-e60a-4730-8edd-92a74b711100"
   },
   "outputs": [
    {
     "data": {
      "text/plain": [
       "<matplotlib.axes._subplots.AxesSubplot at 0x7f9432a8b588>"
      ]
     },
     "execution_count": 33,
     "metadata": {
      "tags": []
     },
     "output_type": "execute_result"
    },
    {
     "data": {
      "image/png": "[encoded data removed]",
      "text/plain": [
       "<Figure size 432x288 with 1 Axes>"
      ]
     },
     "metadata": {
      "needs_background": "light",
      "tags": []
     },
     "output_type": "display_data"
    }
   ],
   "source": [
    "forecast.plot(x='ds', y= 'yhat')"
   ]
  },
  {
   "cell_type": "code",
   "execution_count": 34,
   "metadata": {
    "colab": {
     "base_uri": "https://localhost:8080/",
     "height": 1000
    },
    "id": "EU9BY40Dc0S9",
    "outputId": "2268b9b0-656e-4d6d-ad2c-87ac211679e5"
   },
   "outputs": [
    {
     "data": {
      "image/png": "[encoded data removed]",
      "text/plain": [
       "<Figure size 648x648 with 3 Axes>"
      ]
     },
     "execution_count": 34,
     "metadata": {
      "tags": []
     },
     "output_type": "execute_result"
    },
    {
     "data": {
      "image/png": "[encoded data removed]",
      "text/plain": [
       "<Figure size 648x648 with 3 Axes>"
      ]
     },
     "metadata": {
      "tags": []
     },
     "output_type": "display_data"
    }
   ],
   "source": [
    "m.plot_components(forecast)"
   ]
  },
  {
   "cell_type": "markdown",
   "metadata": {
    "id": "WCjuCdXPfExU"
   },
   "source": [
    "Reference : Diagnostics https://facebook.github.io/prophet/docs/diagnostics.html"
   ]
  },
  {
   "cell_type": "code",
   "execution_count": 51,
   "metadata": {
    "colab": {
     "base_uri": "https://localhost:8080/",
     "height": 84,
     "referenced_widgets": [
      "f9f9903373334acbb6a7e2cfec7a952b",
      "290a45a2cd6e413f912b78ed88fdb0a8",
      "c7f51c578dca4bd4a2225663bae86439",
      "ce49956a6c6d424d8df675a61c61bcf7",
      "bc626d06b5e54c5383acb4ffdd3b19c6",
      "88bf9727ea1a4f8dba14e8979e9c7d01",
      "5795d7e993ab4b629c97bd710f21c2d1",
      "b48ccaed5c164688b16315629c5b6c21"
     ]
    },
    "id": "fod6VOUZd78X",
    "outputId": "aa53f3f8-9917-4339-9897-8cff6eff5c2c"
   },
   "outputs": [
    {
     "name": "stderr",
     "output_type": "stream",
     "text": [
      "INFO:fbprophet:Making 9 forecasts with cutoffs between 2020-04-11 00:00:00 and 2020-09-02 00:00:00\n"
     ]
    },
    {
     "data": {
      "application/vnd.jupyter.widget-view+json": {
       "model_id": "f9f9903373334acbb6a7e2cfec7a952b",
       "version_major": 2,
       "version_minor": 0
      },
      "text/plain": [
       "HBox(children=(FloatProgress(value=0.0, max=9.0), HTML(value='')))"
      ]
     },
     "metadata": {
      "tags": []
     },
     "output_type": "display_data"
    },
    {
     "name": "stdout",
     "output_type": "stream",
     "text": [
      "\n"
     ]
    }
   ],
   "source": [
    "#Here we do cross-validation to assess prediction performance on a horizon of 100 days, starting with 200 days of training data in the first cutoff and then making predictions every 18 days.\n",
    "#On this 2 year time series, this corresponds to 9 total forecasts.\n",
    "from fbprophet.diagnostics import cross_validation\n",
    "df_cv = cross_validation(m, initial='200 days', period='18 days', horizon = '100 days')\n"
   ]
  },
  {
   "cell_type": "code",
   "execution_count": 52,
   "metadata": {
    "colab": {
     "base_uri": "https://localhost:8080/",
     "height": 219
    },
    "id": "v-5FjDZod0t6",
    "outputId": "d04ed640-5177-449f-e13c-7e712f924b5a"
   },
   "outputs": [
    {
     "name": "stderr",
     "output_type": "stream",
     "text": [
      "INFO:fbprophet:Skipping MAPE because y close to 0\n"
     ]
    },
    {
     "data": {
      "text/html": [
       "<div>\n",
       "<style scoped>\n",
       "    .dataframe tbody tr th:only-of-type {\n",
       "        vertical-align: middle;\n",
       "    }\n",
       "\n",
       "    .dataframe tbody tr th {\n",
       "        vertical-align: top;\n",
       "    }\n",
       "\n",
       "    .dataframe thead th {\n",
       "        text-align: right;\n",
       "    }\n",
       "</style>\n",
       "<table border=\"1\" class=\"dataframe\">\n",
       "  <thead>\n",
       "    <tr style=\"text-align: right;\">\n",
       "      <th></th>\n",
       "      <th>horizon</th>\n",
       "      <th>mse</th>\n",
       "      <th>rmse</th>\n",
       "      <th>mae</th>\n",
       "      <th>mdape</th>\n",
       "      <th>coverage</th>\n",
       "    </tr>\n",
       "  </thead>\n",
       "  <tbody>\n",
       "    <tr>\n",
       "      <th>0</th>\n",
       "      <td>10 days</td>\n",
       "      <td>4.288246e+06</td>\n",
       "      <td>2070.808124</td>\n",
       "      <td>1793.847185</td>\n",
       "      <td>0.671346</td>\n",
       "      <td>0.774185</td>\n",
       "    </tr>\n",
       "    <tr>\n",
       "      <th>1</th>\n",
       "      <td>11 days</td>\n",
       "      <td>4.286900e+06</td>\n",
       "      <td>2070.483102</td>\n",
       "      <td>1789.491338</td>\n",
       "      <td>0.658200</td>\n",
       "      <td>0.770224</td>\n",
       "    </tr>\n",
       "    <tr>\n",
       "      <th>2</th>\n",
       "      <td>12 days</td>\n",
       "      <td>4.267824e+06</td>\n",
       "      <td>2065.871221</td>\n",
       "      <td>1783.898997</td>\n",
       "      <td>0.660751</td>\n",
       "      <td>0.770486</td>\n",
       "    </tr>\n",
       "    <tr>\n",
       "      <th>3</th>\n",
       "      <td>13 days</td>\n",
       "      <td>4.270324e+06</td>\n",
       "      <td>2066.476320</td>\n",
       "      <td>1784.741792</td>\n",
       "      <td>0.669688</td>\n",
       "      <td>0.769158</td>\n",
       "    </tr>\n",
       "    <tr>\n",
       "      <th>4</th>\n",
       "      <td>14 days</td>\n",
       "      <td>4.217132e+06</td>\n",
       "      <td>2053.565569</td>\n",
       "      <td>1769.776835</td>\n",
       "      <td>0.666549</td>\n",
       "      <td>0.775102</td>\n",
       "    </tr>\n",
       "  </tbody>\n",
       "</table>\n",
       "</div>"
      ],
      "text/plain": [
       "  horizon           mse         rmse          mae     mdape  coverage\n",
       "0 10 days  4.288246e+06  2070.808124  1793.847185  0.671346  0.774185\n",
       "1 11 days  4.286900e+06  2070.483102  1789.491338  0.658200  0.770224\n",
       "2 12 days  4.267824e+06  2065.871221  1783.898997  0.660751  0.770486\n",
       "3 13 days  4.270324e+06  2066.476320  1784.741792  0.669688  0.769158\n",
       "4 14 days  4.217132e+06  2053.565569  1769.776835  0.666549  0.775102"
      ]
     },
     "execution_count": 52,
     "metadata": {
      "tags": []
     },
     "output_type": "execute_result"
    }
   ],
   "source": [
    "from fbprophet.diagnostics import performance_metrics\n",
    "df_p = performance_metrics(df_cv)\n",
    "df_p.head()"
   ]
  },
  {
   "cell_type": "code",
   "execution_count": 53,
   "metadata": {
    "id": "18F7p2eQiceg"
   },
   "outputs": [],
   "source": [
    "metric_df = forecast.set_index('ds')[['yhat']].join(df.set_index('ds').y).reset_index()"
   ]
  },
  {
   "cell_type": "code",
   "execution_count": 54,
   "metadata": {
    "colab": {
     "base_uri": "https://localhost:8080/",
     "height": 202
    },
    "id": "6BK-yLD4ifjF",
    "outputId": "fa5ec019-5da2-4d7d-e0e9-bb39e0c4fc22"
   },
   "outputs": [
    {
     "data": {
      "text/html": [
       "<div>\n",
       "<style scoped>\n",
       "    .dataframe tbody tr th:only-of-type {\n",
       "        vertical-align: middle;\n",
       "    }\n",
       "\n",
       "    .dataframe tbody tr th {\n",
       "        vertical-align: top;\n",
       "    }\n",
       "\n",
       "    .dataframe thead th {\n",
       "        text-align: right;\n",
       "    }\n",
       "</style>\n",
       "<table border=\"1\" class=\"dataframe\">\n",
       "  <thead>\n",
       "    <tr style=\"text-align: right;\">\n",
       "      <th></th>\n",
       "      <th>ds</th>\n",
       "      <th>yhat</th>\n",
       "      <th>y</th>\n",
       "    </tr>\n",
       "  </thead>\n",
       "  <tbody>\n",
       "    <tr>\n",
       "      <th>52254</th>\n",
       "      <td>2021-12-07</td>\n",
       "      <td>1603.476139</td>\n",
       "      <td>NaN</td>\n",
       "    </tr>\n",
       "    <tr>\n",
       "      <th>52255</th>\n",
       "      <td>2021-12-08</td>\n",
       "      <td>1619.123543</td>\n",
       "      <td>NaN</td>\n",
       "    </tr>\n",
       "    <tr>\n",
       "      <th>52256</th>\n",
       "      <td>2021-12-09</td>\n",
       "      <td>1483.399012</td>\n",
       "      <td>NaN</td>\n",
       "    </tr>\n",
       "    <tr>\n",
       "      <th>52257</th>\n",
       "      <td>2021-12-10</td>\n",
       "      <td>1461.727232</td>\n",
       "      <td>NaN</td>\n",
       "    </tr>\n",
       "    <tr>\n",
       "      <th>52258</th>\n",
       "      <td>2021-12-11</td>\n",
       "      <td>1578.894482</td>\n",
       "      <td>NaN</td>\n",
       "    </tr>\n",
       "  </tbody>\n",
       "</table>\n",
       "</div>"
      ],
      "text/plain": [
       "              ds         yhat   y\n",
       "52254 2021-12-07  1603.476139 NaN\n",
       "52255 2021-12-08  1619.123543 NaN\n",
       "52256 2021-12-09  1483.399012 NaN\n",
       "52257 2021-12-10  1461.727232 NaN\n",
       "52258 2021-12-11  1578.894482 NaN"
      ]
     },
     "execution_count": 54,
     "metadata": {
      "tags": []
     },
     "output_type": "execute_result"
    }
   ],
   "source": [
    "metric_df.tail()"
   ]
  },
  {
   "cell_type": "markdown",
   "metadata": {
    "id": "uRO9gw0diqLJ"
   },
   "source": [
    "You can see from the above, that the last part of the dataframe has NaN for y... that's fine because we are only concerned about checking the forecast values versus the actual values so we can drop these NaN values."
   ]
  },
  {
   "cell_type": "code",
   "execution_count": 55,
   "metadata": {
    "id": "OqRPaGMtiuH4"
   },
   "outputs": [],
   "source": [
    "metric_df.dropna(inplace=True)"
   ]
  },
  {
   "cell_type": "code",
   "execution_count": 56,
   "metadata": {
    "colab": {
     "base_uri": "https://localhost:8080/",
     "height": 202
    },
    "id": "xSfg2H9Gi5JL",
    "outputId": "925eb16b-1502-4818-e252-c27cd63ee19f"
   },
   "outputs": [
    {
     "data": {
      "text/html": [
       "<div>\n",
       "<style scoped>\n",
       "    .dataframe tbody tr th:only-of-type {\n",
       "        vertical-align: middle;\n",
       "    }\n",
       "\n",
       "    .dataframe tbody tr th {\n",
       "        vertical-align: top;\n",
       "    }\n",
       "\n",
       "    .dataframe thead th {\n",
       "        text-align: right;\n",
       "    }\n",
       "</style>\n",
       "<table border=\"1\" class=\"dataframe\">\n",
       "  <thead>\n",
       "    <tr style=\"text-align: right;\">\n",
       "      <th></th>\n",
       "      <th>ds</th>\n",
       "      <th>yhat</th>\n",
       "      <th>y</th>\n",
       "    </tr>\n",
       "  </thead>\n",
       "  <tbody>\n",
       "    <tr>\n",
       "      <th>51889</th>\n",
       "      <td>2020-12-11</td>\n",
       "      <td>1650.048931</td>\n",
       "      <td>47.0</td>\n",
       "    </tr>\n",
       "    <tr>\n",
       "      <th>51890</th>\n",
       "      <td>2020-12-11</td>\n",
       "      <td>1650.048931</td>\n",
       "      <td>22.0</td>\n",
       "    </tr>\n",
       "    <tr>\n",
       "      <th>51891</th>\n",
       "      <td>2020-12-11</td>\n",
       "      <td>1650.048931</td>\n",
       "      <td>0.0</td>\n",
       "    </tr>\n",
       "    <tr>\n",
       "      <th>51892</th>\n",
       "      <td>2020-12-11</td>\n",
       "      <td>1650.048931</td>\n",
       "      <td>0.0</td>\n",
       "    </tr>\n",
       "    <tr>\n",
       "      <th>51893</th>\n",
       "      <td>2020-12-11</td>\n",
       "      <td>1650.048931</td>\n",
       "      <td>0.0</td>\n",
       "    </tr>\n",
       "  </tbody>\n",
       "</table>\n",
       "</div>"
      ],
      "text/plain": [
       "              ds         yhat     y\n",
       "51889 2020-12-11  1650.048931  47.0\n",
       "51890 2020-12-11  1650.048931  22.0\n",
       "51891 2020-12-11  1650.048931   0.0\n",
       "51892 2020-12-11  1650.048931   0.0\n",
       "51893 2020-12-11  1650.048931   0.0"
      ]
     },
     "execution_count": 56,
     "metadata": {
      "tags": []
     },
     "output_type": "execute_result"
    }
   ],
   "source": [
    "metric_df.tail()"
   ]
  },
  {
   "cell_type": "code",
   "execution_count": 58,
   "metadata": {
    "colab": {
     "base_uri": "https://localhost:8080/"
    },
    "id": "loKFWoSBjCXE",
    "outputId": "591729f7-9ca0-4eb2-dea6-09823da9a51d"
   },
   "outputs": [
    {
     "data": {
      "text/plain": [
       "0.02808053018984813"
      ]
     },
     "execution_count": 58,
     "metadata": {
      "tags": []
     },
     "output_type": "execute_result"
    }
   ],
   "source": [
    "#calculation of Root squared score\n",
    "from sklearn.metrics import r2_score\n",
    "r2_score(metric_df.y, metric_df.yhat)"
   ]
  },
  {
   "cell_type": "code",
   "execution_count": 65,
   "metadata": {
    "colab": {
     "base_uri": "https://localhost:8080/"
    },
    "id": "s4HrbzXQjdwr",
    "outputId": "cccfb8d7-071a-4a1b-fa71-e49669bff66b"
   },
   "outputs": [
    {
     "name": "stdout",
     "output_type": "stream",
     "text": [
      "The root mean square error is: 1908.4682675910374\n"
     ]
    }
   ],
   "source": [
    "#calculating root mean square error . For MSE, closer to zero is better\n",
    "from sklearn.metrics import mean_squared_error\n",
    "from math import sqrt\n",
    "mse= mean_squared_error(metric_df.y, metric_df.yhat)\n",
    "rmse = sqrt(mse)\n",
    "print(\"The root mean square error is:\", rmse)"
   ]
  },
  {
   "cell_type": "code",
   "execution_count": null,
   "metadata": {
    "id": "WXXylDkwjwGW"
   },
   "outputs": [],
   "source": []
  }
 ],
 "metadata": {
  "colab": {
   "collapsed_sections": [],
   "name": "PV_fbProphet.ipynb",
   "provenance": []
  },
  "kernelspec": {
   "display_name": "Python 3",
   "language": "python",
   "name": "python3"
  },
  "language_info": {
   "codemirror_mode": {
    "name": "ipython",
    "version": 3
   },
   "file_extension": ".py",
   "mimetype": "text/x-python",
   "name": "python",
   "nbconvert_exporter": "python",
   "pygments_lexer": "ipython3",
   "version": "3.7.9"
  },
  "widgets": {
   "application/vnd.jupyter.widget-state+json": {
    "290a45a2cd6e413f912b78ed88fdb0a8": {
     "model_module": "@jupyter-widgets/base",
     "model_name": "LayoutModel",
     "state": {
      "_model_module": "@jupyter-widgets/base",
      "_model_module_version": "1.2.0",
      "_model_name": "LayoutModel",
      "_view_count": null,
      "_view_module": "@jupyter-widgets/base",
      "_view_module_version": "1.2.0",
      "_view_name": "LayoutView",
      "align_content": null,
      "align_items": null,
      "align_self": null,
      "border": null,
      "bottom": null,
      "display": null,
      "flex": null,
      "flex_flow": null,
      "grid_area": null,
      "grid_auto_columns": null,
      "grid_auto_flow": null,
      "grid_auto_rows": null,
      "grid_column": null,
      "grid_gap": null,
      "grid_row": null,
      "grid_template_areas": null,
      "grid_template_columns": null,
      "grid_template_rows": null,
      "height": null,
      "justify_content": null,
      "justify_items": null,
      "left": null,
      "margin": null,
      "max_height": null,
      "max_width": null,
      "min_height": null,
      "min_width": null,
      "object_fit": null,
      "object_position": null,
      "order": null,
      "overflow": null,
      "overflow_x": null,
      "overflow_y": null,
      "padding": null,
      "right": null,
      "top": null,
      "visibility": null,
      "width": null
     }
    },
    "5795d7e993ab4b629c97bd710f21c2d1": {
     "model_module": "@jupyter-widgets/controls",
     "model_name": "DescriptionStyleModel",
     "state": {
      "_model_module": "@jupyter-widgets/controls",
      "_model_module_version": "1.5.0",
      "_model_name": "DescriptionStyleModel",
      "_view_count": null,
      "_view_module": "@jupyter-widgets/base",
      "_view_module_version": "1.2.0",
      "_view_name": "StyleView",
      "description_width": ""
     }
    },
    "88bf9727ea1a4f8dba14e8979e9c7d01": {
     "model_module": "@jupyter-widgets/base",
     "model_name": "LayoutModel",
     "state": {
      "_model_module": "@jupyter-widgets/base",
      "_model_module_version": "1.2.0",
      "_model_name": "LayoutModel",
      "_view_count": null,
      "_view_module": "@jupyter-widgets/base",
      "_view_module_version": "1.2.0",
      "_view_name": "LayoutView",
      "align_content": null,
      "align_items": null,
      "align_self": null,
      "border": null,
      "bottom": null,
      "display": null,
      "flex": null,
      "flex_flow": null,
      "grid_area": null,
      "grid_auto_columns": null,
      "grid_auto_flow": null,
      "grid_auto_rows": null,
      "grid_column": null,
      "grid_gap": null,
      "grid_row": null,
      "grid_template_areas": null,
      "grid_template_columns": null,
      "grid_template_rows": null,
      "height": null,
      "justify_content": null,
      "justify_items": null,
      "left": null,
      "margin": null,
      "max_height": null,
      "max_width": null,
      "min_height": null,
      "min_width": null,
      "object_fit": null,
      "object_position": null,
      "order": null,
      "overflow": null,
      "overflow_x": null,
      "overflow_y": null,
      "padding": null,
      "right": null,
      "top": null,
      "visibility": null,
      "width": null
     }
    },
    "b48ccaed5c164688b16315629c5b6c21": {
     "model_module": "@jupyter-widgets/base",
     "model_name": "LayoutModel",
     "state": {
      "_model_module": "@jupyter-widgets/base",
      "_model_module_version": "1.2.0",
      "_model_name": "LayoutModel",
      "_view_count": null,
      "_view_module": "@jupyter-widgets/base",
      "_view_module_version": "1.2.0",
      "_view_name": "LayoutView",
      "align_content": null,
      "align_items": null,
      "align_self": null,
      "border": null,
      "bottom": null,
      "display": null,
      "flex": null,
      "flex_flow": null,
      "grid_area": null,
      "grid_auto_columns": null,
      "grid_auto_flow": null,
      "grid_auto_rows": null,
      "grid_column": null,
      "grid_gap": null,
      "grid_row": null,
      "grid_template_areas": null,
      "grid_template_columns": null,
      "grid_template_rows": null,
      "height": null,
      "justify_content": null,
      "justify_items": null,
      "left": null,
      "margin": null,
      "max_height": null,
      "max_width": null,
      "min_height": null,
      "min_width": null,
      "object_fit": null,
      "object_position": null,
      "order": null,
      "overflow": null,
      "overflow_x": null,
      "overflow_y": null,
      "padding": null,
      "right": null,
      "top": null,
      "visibility": null,
      "width": null
     }
    },
    "bc626d06b5e54c5383acb4ffdd3b19c6": {
     "model_module": "@jupyter-widgets/controls",
     "model_name": "ProgressStyleModel",
     "state": {
      "_model_module": "@jupyter-widgets/controls",
      "_model_module_version": "1.5.0",
      "_model_name": "ProgressStyleModel",
      "_view_count": null,
      "_view_module": "@jupyter-widgets/base",
      "_view_module_version": "1.2.0",
      "_view_name": "StyleView",
      "bar_color": null,
      "description_width": "initial"
     }
    },
    "c7f51c578dca4bd4a2225663bae86439": {
     "model_module": "@jupyter-widgets/controls",
     "model_name": "FloatProgressModel",
     "state": {
      "_dom_classes": [],
      "_model_module": "@jupyter-widgets/controls",
      "_model_module_version": "1.5.0",
      "_model_name": "FloatProgressModel",
      "_view_count": null,
      "_view_module": "@jupyter-widgets/controls",
      "_view_module_version": "1.5.0",
      "_view_name": "ProgressView",
      "bar_style": "success",
      "description": "100%",
      "description_tooltip": null,
      "layout": "IPY_MODEL_88bf9727ea1a4f8dba14e8979e9c7d01",
      "max": 9,
      "min": 0,
      "orientation": "horizontal",
      "style": "IPY_MODEL_bc626d06b5e54c5383acb4ffdd3b19c6",
      "value": 9
     }
    },
    "ce49956a6c6d424d8df675a61c61bcf7": {
     "model_module": "@jupyter-widgets/controls",
     "model_name": "HTMLModel",
     "state": {
      "_dom_classes": [],
      "_model_module": "@jupyter-widgets/controls",
      "_model_module_version": "1.5.0",
      "_model_name": "HTMLModel",
      "_view_count": null,
      "_view_module": "@jupyter-widgets/controls",
      "_view_module_version": "1.5.0",
      "_view_name": "HTMLView",
      "description": "",
      "description_tooltip": null,
      "layout": "IPY_MODEL_b48ccaed5c164688b16315629c5b6c21",
      "placeholder": "​",
      "style": "IPY_MODEL_5795d7e993ab4b629c97bd710f21c2d1",
      "value": " 9/9 [04:00&lt;00:00, 26.70s/it]"
     }
    },
    "f9f9903373334acbb6a7e2cfec7a952b": {
     "model_module": "@jupyter-widgets/controls",
     "model_name": "HBoxModel",
     "state": {
      "_dom_classes": [],
      "_model_module": "@jupyter-widgets/controls",
      "_model_module_version": "1.5.0",
      "_model_name": "HBoxModel",
      "_view_count": null,
      "_view_module": "@jupyter-widgets/controls",
      "_view_module_version": "1.5.0",
      "_view_name": "HBoxView",
      "box_style": "",
      "children": [
       "IPY_MODEL_c7f51c578dca4bd4a2225663bae86439",
       "IPY_MODEL_ce49956a6c6d424d8df675a61c61bcf7"
      ],
      "layout": "IPY_MODEL_290a45a2cd6e413f912b78ed88fdb0a8"
     }
    }
   }
  }
 },
 "nbformat": 4,
 "nbformat_minor": 1
}
